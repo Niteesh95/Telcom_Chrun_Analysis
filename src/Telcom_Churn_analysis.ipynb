{
 "cells": [
  {
   "cell_type": "markdown",
   "id": "4f25c0fa",
   "metadata": {},
   "source": [
    "### Import all necessary libraries"
   ]
  },
  {
   "cell_type": "code",
   "execution_count": 1,
   "id": "26456f69",
   "metadata": {},
   "outputs": [],
   "source": [
    "import pandas as pd\n",
    "import numpy as np\n",
    "import matplotlib.pyplot as plt\n",
    "import seaborn as sns"
   ]
  },
  {
   "cell_type": "code",
   "execution_count": 75,
   "id": "ac6f2d37",
   "metadata": {},
   "outputs": [],
   "source": [
    "from sklearn.preprocessing import LabelEncoder\n",
    "from sklearn.preprocessing import MinMaxScaler, StandardScaler\n",
    "from sklearn.model_selection import train_test_split\n",
    "from sklearn.linear_model import LogisticRegression\n",
    "from sklearn.ensemble import RandomForestClassifier\n",
    "from xgboost import XGBClassifier\n",
    "from sklearn.svm import SVC\n",
    "from sklearn.tree import DecisionTreeClassifier\n",
    "\n",
    "from sklearn.preprocessing import OneHotEncoder\n",
    "from sklearn.model_selection import cross_val_score,KFold\n",
    "from sklearn.metrics import confusion_matrix,accuracy_score, classification_report, ConfusionMatrixDisplay\n",
    "from sklearn import metrics\n",
    "\n",
    "from sklearn.model_selection import RepeatedStratifiedKFold, RandomizedSearchCV"
   ]
  },
  {
   "cell_type": "code",
   "execution_count": 3,
   "id": "13bf8ca0",
   "metadata": {},
   "outputs": [],
   "source": [
    "import warnings\n",
    "warnings.filterwarnings('ignore')"
   ]
  },
  {
   "cell_type": "markdown",
   "id": "8fbb0618",
   "metadata": {},
   "source": [
    "**Load Train data and Production data**"
   ]
  },
  {
   "cell_type": "code",
   "execution_count": 4,
   "id": "e2524450",
   "metadata": {},
   "outputs": [],
   "source": [
    "df_train = pd.read_csv(r\"data\\Telco-Customer-Churn.csv\")"
   ]
  },
  {
   "cell_type": "markdown",
   "id": "ca267fb1",
   "metadata": {},
   "source": [
    "**View and Analyze the data to perform required Preprocessing steps**"
   ]
  },
  {
   "cell_type": "code",
   "execution_count": 5,
   "id": "cdbbbd9f",
   "metadata": {},
   "outputs": [
    {
     "data": {
      "text/plain": [
       "0"
      ]
     },
     "execution_count": 5,
     "metadata": {},
     "output_type": "execute_result"
    }
   ],
   "source": [
    "# Detecting duplicates\n",
    "df_train.duplicated().sum()"
   ]
  },
  {
   "cell_type": "code",
   "execution_count": 6,
   "id": "e5c37258",
   "metadata": {},
   "outputs": [
    {
     "data": {
      "text/plain": [
       "(7043, 21)"
      ]
     },
     "execution_count": 6,
     "metadata": {},
     "output_type": "execute_result"
    }
   ],
   "source": [
    "df_train.shape"
   ]
  },
  {
   "cell_type": "code",
   "execution_count": 7,
   "id": "96d57c00",
   "metadata": {
    "scrolled": true
   },
   "outputs": [
    {
     "data": {
      "text/html": [
       "<div>\n",
       "<style scoped>\n",
       "    .dataframe tbody tr th:only-of-type {\n",
       "        vertical-align: middle;\n",
       "    }\n",
       "\n",
       "    .dataframe tbody tr th {\n",
       "        vertical-align: top;\n",
       "    }\n",
       "\n",
       "    .dataframe thead th {\n",
       "        text-align: right;\n",
       "    }\n",
       "</style>\n",
       "<table border=\"1\" class=\"dataframe\">\n",
       "  <thead>\n",
       "    <tr style=\"text-align: right;\">\n",
       "      <th></th>\n",
       "      <th>customerID</th>\n",
       "      <th>gender</th>\n",
       "      <th>SeniorCitizen</th>\n",
       "      <th>Partner</th>\n",
       "      <th>Dependents</th>\n",
       "      <th>tenure</th>\n",
       "      <th>PhoneService</th>\n",
       "      <th>MultipleLines</th>\n",
       "      <th>InternetService</th>\n",
       "      <th>OnlineSecurity</th>\n",
       "      <th>...</th>\n",
       "      <th>DeviceProtection</th>\n",
       "      <th>TechSupport</th>\n",
       "      <th>StreamingTV</th>\n",
       "      <th>StreamingMovies</th>\n",
       "      <th>Contract</th>\n",
       "      <th>PaperlessBilling</th>\n",
       "      <th>PaymentMethod</th>\n",
       "      <th>MonthlyCharges</th>\n",
       "      <th>TotalCharges</th>\n",
       "      <th>Churn</th>\n",
       "    </tr>\n",
       "  </thead>\n",
       "  <tbody>\n",
       "    <tr>\n",
       "      <th>0</th>\n",
       "      <td>7590-VHVEG</td>\n",
       "      <td>Female</td>\n",
       "      <td>0</td>\n",
       "      <td>Yes</td>\n",
       "      <td>No</td>\n",
       "      <td>1</td>\n",
       "      <td>No</td>\n",
       "      <td>No phone service</td>\n",
       "      <td>DSL</td>\n",
       "      <td>No</td>\n",
       "      <td>...</td>\n",
       "      <td>No</td>\n",
       "      <td>No</td>\n",
       "      <td>No</td>\n",
       "      <td>No</td>\n",
       "      <td>Month-to-month</td>\n",
       "      <td>Yes</td>\n",
       "      <td>Electronic check</td>\n",
       "      <td>29.85</td>\n",
       "      <td>29.85</td>\n",
       "      <td>No</td>\n",
       "    </tr>\n",
       "    <tr>\n",
       "      <th>1</th>\n",
       "      <td>5575-GNVDE</td>\n",
       "      <td>Male</td>\n",
       "      <td>0</td>\n",
       "      <td>No</td>\n",
       "      <td>No</td>\n",
       "      <td>34</td>\n",
       "      <td>Yes</td>\n",
       "      <td>No</td>\n",
       "      <td>DSL</td>\n",
       "      <td>Yes</td>\n",
       "      <td>...</td>\n",
       "      <td>Yes</td>\n",
       "      <td>No</td>\n",
       "      <td>No</td>\n",
       "      <td>No</td>\n",
       "      <td>One year</td>\n",
       "      <td>No</td>\n",
       "      <td>Mailed check</td>\n",
       "      <td>56.95</td>\n",
       "      <td>1889.5</td>\n",
       "      <td>No</td>\n",
       "    </tr>\n",
       "    <tr>\n",
       "      <th>2</th>\n",
       "      <td>3668-QPYBK</td>\n",
       "      <td>Male</td>\n",
       "      <td>0</td>\n",
       "      <td>No</td>\n",
       "      <td>No</td>\n",
       "      <td>2</td>\n",
       "      <td>Yes</td>\n",
       "      <td>No</td>\n",
       "      <td>DSL</td>\n",
       "      <td>Yes</td>\n",
       "      <td>...</td>\n",
       "      <td>No</td>\n",
       "      <td>No</td>\n",
       "      <td>No</td>\n",
       "      <td>No</td>\n",
       "      <td>Month-to-month</td>\n",
       "      <td>Yes</td>\n",
       "      <td>Mailed check</td>\n",
       "      <td>53.85</td>\n",
       "      <td>108.15</td>\n",
       "      <td>Yes</td>\n",
       "    </tr>\n",
       "    <tr>\n",
       "      <th>3</th>\n",
       "      <td>7795-CFOCW</td>\n",
       "      <td>Male</td>\n",
       "      <td>0</td>\n",
       "      <td>No</td>\n",
       "      <td>No</td>\n",
       "      <td>45</td>\n",
       "      <td>No</td>\n",
       "      <td>No phone service</td>\n",
       "      <td>DSL</td>\n",
       "      <td>Yes</td>\n",
       "      <td>...</td>\n",
       "      <td>Yes</td>\n",
       "      <td>Yes</td>\n",
       "      <td>No</td>\n",
       "      <td>No</td>\n",
       "      <td>One year</td>\n",
       "      <td>No</td>\n",
       "      <td>Bank transfer (automatic)</td>\n",
       "      <td>42.30</td>\n",
       "      <td>1840.75</td>\n",
       "      <td>No</td>\n",
       "    </tr>\n",
       "    <tr>\n",
       "      <th>4</th>\n",
       "      <td>9237-HQITU</td>\n",
       "      <td>Female</td>\n",
       "      <td>0</td>\n",
       "      <td>No</td>\n",
       "      <td>No</td>\n",
       "      <td>2</td>\n",
       "      <td>Yes</td>\n",
       "      <td>No</td>\n",
       "      <td>Fiber optic</td>\n",
       "      <td>No</td>\n",
       "      <td>...</td>\n",
       "      <td>No</td>\n",
       "      <td>No</td>\n",
       "      <td>No</td>\n",
       "      <td>No</td>\n",
       "      <td>Month-to-month</td>\n",
       "      <td>Yes</td>\n",
       "      <td>Electronic check</td>\n",
       "      <td>70.70</td>\n",
       "      <td>151.65</td>\n",
       "      <td>Yes</td>\n",
       "    </tr>\n",
       "  </tbody>\n",
       "</table>\n",
       "<p>5 rows × 21 columns</p>\n",
       "</div>"
      ],
      "text/plain": [
       "   customerID  gender  SeniorCitizen Partner Dependents  tenure PhoneService  \\\n",
       "0  7590-VHVEG  Female              0     Yes         No       1           No   \n",
       "1  5575-GNVDE    Male              0      No         No      34          Yes   \n",
       "2  3668-QPYBK    Male              0      No         No       2          Yes   \n",
       "3  7795-CFOCW    Male              0      No         No      45           No   \n",
       "4  9237-HQITU  Female              0      No         No       2          Yes   \n",
       "\n",
       "      MultipleLines InternetService OnlineSecurity  ... DeviceProtection  \\\n",
       "0  No phone service             DSL             No  ...               No   \n",
       "1                No             DSL            Yes  ...              Yes   \n",
       "2                No             DSL            Yes  ...               No   \n",
       "3  No phone service             DSL            Yes  ...              Yes   \n",
       "4                No     Fiber optic             No  ...               No   \n",
       "\n",
       "  TechSupport StreamingTV StreamingMovies        Contract PaperlessBilling  \\\n",
       "0          No          No              No  Month-to-month              Yes   \n",
       "1          No          No              No        One year               No   \n",
       "2          No          No              No  Month-to-month              Yes   \n",
       "3         Yes          No              No        One year               No   \n",
       "4          No          No              No  Month-to-month              Yes   \n",
       "\n",
       "               PaymentMethod MonthlyCharges  TotalCharges Churn  \n",
       "0           Electronic check          29.85         29.85    No  \n",
       "1               Mailed check          56.95        1889.5    No  \n",
       "2               Mailed check          53.85        108.15   Yes  \n",
       "3  Bank transfer (automatic)          42.30       1840.75    No  \n",
       "4           Electronic check          70.70        151.65   Yes  \n",
       "\n",
       "[5 rows x 21 columns]"
      ]
     },
     "execution_count": 7,
     "metadata": {},
     "output_type": "execute_result"
    }
   ],
   "source": [
    "df_train.head()"
   ]
  },
  {
   "cell_type": "markdown",
   "id": "71cdc2a2",
   "metadata": {},
   "source": [
    "### Dataset Description"
   ]
  },
  {
   "cell_type": "markdown",
   "id": "d6ef2074",
   "metadata": {},
   "source": [
    "1. customerID - Customer ID\n",
    "2. gender - Whether the customer is a male or a female\n",
    "3. SeniorCitizen - Whether the customer is a senior citizen or not (1 - yes, 0 - No)\n",
    "4. Partner - Whether the customer has a partner or not (Yes, No)\n",
    "5. Dependents - Whether the customer has dependents or not (Yes, No) \n",
    "6. tenure - Number of months the customer has stayed with the company\n",
    "7. PhoneService - Whether the customer has a phone service or not (Yes, No)\n",
    "8. MultipleLines - Whether the customer has multiple lines or not (Yes, No, No phone service)\n",
    "9. InternetService - Customer’s internet service provider (DSL, Fiber optic, No)\n",
    "10. OnlineSecurity - Whether the customer has online security or not (Yes, No, No internet service)\n",
    "11. OnlineBackup - Whether the customer has online backup or not (Yes, No, No internet service)\n",
    "12. DeviceProtection - Whether the customer has device protection or not (Yes, No, No internet service)\n",
    "13. TechSupport - Whether the customer has tech support or not (Yes, No, No internet service)\n",
    "14. StreamingTV - Whether the customer has streaming TV or not (Yes, No, No internet service)\n",
    "15. StreamingMovies - Whether the customer has streaming movies or not (Yes, No, No internet service)\n",
    "16. Contract - The contract term of the customer (Month-to-month, One year, Two year)\n",
    "17. PaperlessBilling - Whether the customer has paperless billing or not (Yes, No)\n",
    "18. PaymentMethod - The customer’s payment method (Electronic check, Mailed check, Bank transfer (automatic), Credit card (automatic))\n",
    "19. MonthlyCharges - The amount charged to the customer monthly\n",
    "20. TotalCharges - The total amount charged to the customer\n",
    "\n",
    "21. Churn - Whether the customer churned or not (Yes or No)"
   ]
  },
  {
   "cell_type": "code",
   "execution_count": 8,
   "id": "1d7cba08",
   "metadata": {
    "scrolled": true
   },
   "outputs": [
    {
     "data": {
      "text/plain": [
       "customerID           object\n",
       "gender               object\n",
       "SeniorCitizen         int64\n",
       "Partner              object\n",
       "Dependents           object\n",
       "tenure                int64\n",
       "PhoneService         object\n",
       "MultipleLines        object\n",
       "InternetService      object\n",
       "OnlineSecurity       object\n",
       "OnlineBackup         object\n",
       "DeviceProtection     object\n",
       "TechSupport          object\n",
       "StreamingTV          object\n",
       "StreamingMovies      object\n",
       "Contract             object\n",
       "PaperlessBilling     object\n",
       "PaymentMethod        object\n",
       "MonthlyCharges      float64\n",
       "TotalCharges         object\n",
       "Churn                object\n",
       "dtype: object"
      ]
     },
     "execution_count": 8,
     "metadata": {},
     "output_type": "execute_result"
    }
   ],
   "source": [
    "df_train.dtypes"
   ]
  },
  {
   "cell_type": "markdown",
   "id": "2a6b98ff",
   "metadata": {},
   "source": [
    "# Data Cleaning"
   ]
  },
  {
   "cell_type": "code",
   "execution_count": 9,
   "id": "47dfadb5",
   "metadata": {},
   "outputs": [],
   "source": [
    "# Dropping 'customerID' column from data frame as it is not required for the prediction\n",
    "df_train = df_train.drop('customerID',axis=1)"
   ]
  },
  {
   "cell_type": "code",
   "execution_count": 10,
   "id": "c6dd747f",
   "metadata": {},
   "outputs": [
    {
     "data": {
      "text/html": [
       "<div>\n",
       "<style scoped>\n",
       "    .dataframe tbody tr th:only-of-type {\n",
       "        vertical-align: middle;\n",
       "    }\n",
       "\n",
       "    .dataframe tbody tr th {\n",
       "        vertical-align: top;\n",
       "    }\n",
       "\n",
       "    .dataframe thead th {\n",
       "        text-align: right;\n",
       "    }\n",
       "</style>\n",
       "<table border=\"1\" class=\"dataframe\">\n",
       "  <thead>\n",
       "    <tr style=\"text-align: right;\">\n",
       "      <th></th>\n",
       "      <th>gender</th>\n",
       "      <th>SeniorCitizen</th>\n",
       "      <th>Partner</th>\n",
       "      <th>Dependents</th>\n",
       "      <th>tenure</th>\n",
       "      <th>PhoneService</th>\n",
       "      <th>MultipleLines</th>\n",
       "      <th>InternetService</th>\n",
       "      <th>OnlineSecurity</th>\n",
       "      <th>OnlineBackup</th>\n",
       "      <th>DeviceProtection</th>\n",
       "      <th>TechSupport</th>\n",
       "      <th>StreamingTV</th>\n",
       "      <th>StreamingMovies</th>\n",
       "      <th>Contract</th>\n",
       "      <th>PaperlessBilling</th>\n",
       "      <th>PaymentMethod</th>\n",
       "      <th>MonthlyCharges</th>\n",
       "      <th>TotalCharges</th>\n",
       "      <th>Churn</th>\n",
       "    </tr>\n",
       "  </thead>\n",
       "  <tbody>\n",
       "    <tr>\n",
       "      <th>0</th>\n",
       "      <td>Female</td>\n",
       "      <td>0</td>\n",
       "      <td>Yes</td>\n",
       "      <td>No</td>\n",
       "      <td>1</td>\n",
       "      <td>No</td>\n",
       "      <td>No phone service</td>\n",
       "      <td>DSL</td>\n",
       "      <td>No</td>\n",
       "      <td>Yes</td>\n",
       "      <td>No</td>\n",
       "      <td>No</td>\n",
       "      <td>No</td>\n",
       "      <td>No</td>\n",
       "      <td>Month-to-month</td>\n",
       "      <td>Yes</td>\n",
       "      <td>Electronic check</td>\n",
       "      <td>29.85</td>\n",
       "      <td>29.85</td>\n",
       "      <td>No</td>\n",
       "    </tr>\n",
       "    <tr>\n",
       "      <th>1</th>\n",
       "      <td>Male</td>\n",
       "      <td>0</td>\n",
       "      <td>No</td>\n",
       "      <td>No</td>\n",
       "      <td>34</td>\n",
       "      <td>Yes</td>\n",
       "      <td>No</td>\n",
       "      <td>DSL</td>\n",
       "      <td>Yes</td>\n",
       "      <td>No</td>\n",
       "      <td>Yes</td>\n",
       "      <td>No</td>\n",
       "      <td>No</td>\n",
       "      <td>No</td>\n",
       "      <td>One year</td>\n",
       "      <td>No</td>\n",
       "      <td>Mailed check</td>\n",
       "      <td>56.95</td>\n",
       "      <td>1889.5</td>\n",
       "      <td>No</td>\n",
       "    </tr>\n",
       "    <tr>\n",
       "      <th>2</th>\n",
       "      <td>Male</td>\n",
       "      <td>0</td>\n",
       "      <td>No</td>\n",
       "      <td>No</td>\n",
       "      <td>2</td>\n",
       "      <td>Yes</td>\n",
       "      <td>No</td>\n",
       "      <td>DSL</td>\n",
       "      <td>Yes</td>\n",
       "      <td>Yes</td>\n",
       "      <td>No</td>\n",
       "      <td>No</td>\n",
       "      <td>No</td>\n",
       "      <td>No</td>\n",
       "      <td>Month-to-month</td>\n",
       "      <td>Yes</td>\n",
       "      <td>Mailed check</td>\n",
       "      <td>53.85</td>\n",
       "      <td>108.15</td>\n",
       "      <td>Yes</td>\n",
       "    </tr>\n",
       "    <tr>\n",
       "      <th>3</th>\n",
       "      <td>Male</td>\n",
       "      <td>0</td>\n",
       "      <td>No</td>\n",
       "      <td>No</td>\n",
       "      <td>45</td>\n",
       "      <td>No</td>\n",
       "      <td>No phone service</td>\n",
       "      <td>DSL</td>\n",
       "      <td>Yes</td>\n",
       "      <td>No</td>\n",
       "      <td>Yes</td>\n",
       "      <td>Yes</td>\n",
       "      <td>No</td>\n",
       "      <td>No</td>\n",
       "      <td>One year</td>\n",
       "      <td>No</td>\n",
       "      <td>Bank transfer (automatic)</td>\n",
       "      <td>42.30</td>\n",
       "      <td>1840.75</td>\n",
       "      <td>No</td>\n",
       "    </tr>\n",
       "    <tr>\n",
       "      <th>4</th>\n",
       "      <td>Female</td>\n",
       "      <td>0</td>\n",
       "      <td>No</td>\n",
       "      <td>No</td>\n",
       "      <td>2</td>\n",
       "      <td>Yes</td>\n",
       "      <td>No</td>\n",
       "      <td>Fiber optic</td>\n",
       "      <td>No</td>\n",
       "      <td>No</td>\n",
       "      <td>No</td>\n",
       "      <td>No</td>\n",
       "      <td>No</td>\n",
       "      <td>No</td>\n",
       "      <td>Month-to-month</td>\n",
       "      <td>Yes</td>\n",
       "      <td>Electronic check</td>\n",
       "      <td>70.70</td>\n",
       "      <td>151.65</td>\n",
       "      <td>Yes</td>\n",
       "    </tr>\n",
       "  </tbody>\n",
       "</table>\n",
       "</div>"
      ],
      "text/plain": [
       "   gender  SeniorCitizen Partner Dependents  tenure PhoneService  \\\n",
       "0  Female              0     Yes         No       1           No   \n",
       "1    Male              0      No         No      34          Yes   \n",
       "2    Male              0      No         No       2          Yes   \n",
       "3    Male              0      No         No      45           No   \n",
       "4  Female              0      No         No       2          Yes   \n",
       "\n",
       "      MultipleLines InternetService OnlineSecurity OnlineBackup  \\\n",
       "0  No phone service             DSL             No          Yes   \n",
       "1                No             DSL            Yes           No   \n",
       "2                No             DSL            Yes          Yes   \n",
       "3  No phone service             DSL            Yes           No   \n",
       "4                No     Fiber optic             No           No   \n",
       "\n",
       "  DeviceProtection TechSupport StreamingTV StreamingMovies        Contract  \\\n",
       "0               No          No          No              No  Month-to-month   \n",
       "1              Yes          No          No              No        One year   \n",
       "2               No          No          No              No  Month-to-month   \n",
       "3              Yes         Yes          No              No        One year   \n",
       "4               No          No          No              No  Month-to-month   \n",
       "\n",
       "  PaperlessBilling              PaymentMethod  MonthlyCharges TotalCharges  \\\n",
       "0              Yes           Electronic check           29.85        29.85   \n",
       "1               No               Mailed check           56.95       1889.5   \n",
       "2              Yes               Mailed check           53.85       108.15   \n",
       "3               No  Bank transfer (automatic)           42.30      1840.75   \n",
       "4              Yes           Electronic check           70.70       151.65   \n",
       "\n",
       "  Churn  \n",
       "0    No  \n",
       "1    No  \n",
       "2   Yes  \n",
       "3    No  \n",
       "4   Yes  "
      ]
     },
     "execution_count": 10,
     "metadata": {},
     "output_type": "execute_result"
    }
   ],
   "source": [
    "df_train.head()"
   ]
  },
  {
   "cell_type": "code",
   "execution_count": 11,
   "id": "b8dc41fd",
   "metadata": {},
   "outputs": [],
   "source": [
    "df_train['TotalCharges'] = pd.to_numeric(df_train['TotalCharges'], errors='coerce')\n",
    "df_train['MonthlyCharges'] = pd.to_numeric(df_train['MonthlyCharges'], errors='coerce')"
   ]
  },
  {
   "cell_type": "code",
   "execution_count": 12,
   "id": "e1648aa0",
   "metadata": {},
   "outputs": [
    {
     "data": {
      "text/html": [
       "<div>\n",
       "<style scoped>\n",
       "    .dataframe tbody tr th:only-of-type {\n",
       "        vertical-align: middle;\n",
       "    }\n",
       "\n",
       "    .dataframe tbody tr th {\n",
       "        vertical-align: top;\n",
       "    }\n",
       "\n",
       "    .dataframe thead th {\n",
       "        text-align: right;\n",
       "    }\n",
       "</style>\n",
       "<table border=\"1\" class=\"dataframe\">\n",
       "  <thead>\n",
       "    <tr style=\"text-align: right;\">\n",
       "      <th></th>\n",
       "      <th>SeniorCitizen</th>\n",
       "      <th>tenure</th>\n",
       "      <th>MonthlyCharges</th>\n",
       "      <th>TotalCharges</th>\n",
       "    </tr>\n",
       "  </thead>\n",
       "  <tbody>\n",
       "    <tr>\n",
       "      <th>count</th>\n",
       "      <td>7043.000000</td>\n",
       "      <td>7043.000000</td>\n",
       "      <td>7043.000000</td>\n",
       "      <td>7032.000000</td>\n",
       "    </tr>\n",
       "    <tr>\n",
       "      <th>mean</th>\n",
       "      <td>0.162147</td>\n",
       "      <td>32.371149</td>\n",
       "      <td>64.761692</td>\n",
       "      <td>2283.300441</td>\n",
       "    </tr>\n",
       "    <tr>\n",
       "      <th>std</th>\n",
       "      <td>0.368612</td>\n",
       "      <td>24.559481</td>\n",
       "      <td>30.090047</td>\n",
       "      <td>2266.771362</td>\n",
       "    </tr>\n",
       "    <tr>\n",
       "      <th>min</th>\n",
       "      <td>0.000000</td>\n",
       "      <td>0.000000</td>\n",
       "      <td>18.250000</td>\n",
       "      <td>18.800000</td>\n",
       "    </tr>\n",
       "    <tr>\n",
       "      <th>25%</th>\n",
       "      <td>0.000000</td>\n",
       "      <td>9.000000</td>\n",
       "      <td>35.500000</td>\n",
       "      <td>401.450000</td>\n",
       "    </tr>\n",
       "    <tr>\n",
       "      <th>50%</th>\n",
       "      <td>0.000000</td>\n",
       "      <td>29.000000</td>\n",
       "      <td>70.350000</td>\n",
       "      <td>1397.475000</td>\n",
       "    </tr>\n",
       "    <tr>\n",
       "      <th>75%</th>\n",
       "      <td>0.000000</td>\n",
       "      <td>55.000000</td>\n",
       "      <td>89.850000</td>\n",
       "      <td>3794.737500</td>\n",
       "    </tr>\n",
       "    <tr>\n",
       "      <th>max</th>\n",
       "      <td>1.000000</td>\n",
       "      <td>72.000000</td>\n",
       "      <td>118.750000</td>\n",
       "      <td>8684.800000</td>\n",
       "    </tr>\n",
       "  </tbody>\n",
       "</table>\n",
       "</div>"
      ],
      "text/plain": [
       "       SeniorCitizen       tenure  MonthlyCharges  TotalCharges\n",
       "count    7043.000000  7043.000000     7043.000000   7032.000000\n",
       "mean        0.162147    32.371149       64.761692   2283.300441\n",
       "std         0.368612    24.559481       30.090047   2266.771362\n",
       "min         0.000000     0.000000       18.250000     18.800000\n",
       "25%         0.000000     9.000000       35.500000    401.450000\n",
       "50%         0.000000    29.000000       70.350000   1397.475000\n",
       "75%         0.000000    55.000000       89.850000   3794.737500\n",
       "max         1.000000    72.000000      118.750000   8684.800000"
      ]
     },
     "execution_count": 12,
     "metadata": {},
     "output_type": "execute_result"
    }
   ],
   "source": [
    "df_train.describe()"
   ]
  },
  {
   "cell_type": "markdown",
   "id": "e8feb7bd",
   "metadata": {},
   "source": [
    "### Detecting and handling null values from train data"
   ]
  },
  {
   "cell_type": "code",
   "execution_count": 13,
   "id": "d4dd7f68",
   "metadata": {},
   "outputs": [],
   "source": [
    "# print(df_train.info())"
   ]
  },
  {
   "cell_type": "code",
   "execution_count": 14,
   "id": "0c46db3b",
   "metadata": {},
   "outputs": [
    {
     "name": "stdout",
     "output_type": "stream",
     "text": [
      "gender has 0 null values\n",
      "SeniorCitizen has 0 null values\n",
      "Partner has 0 null values\n",
      "Dependents has 0 null values\n",
      "tenure has 0 null values\n",
      "PhoneService has 0 null values\n",
      "MultipleLines has 0 null values\n",
      "InternetService has 0 null values\n",
      "OnlineSecurity has 0 null values\n",
      "OnlineBackup has 0 null values\n",
      "DeviceProtection has 0 null values\n",
      "TechSupport has 0 null values\n",
      "StreamingTV has 0 null values\n",
      "StreamingMovies has 0 null values\n",
      "Contract has 0 null values\n",
      "PaperlessBilling has 0 null values\n",
      "PaymentMethod has 0 null values\n",
      "MonthlyCharges has 0 null values\n",
      "TotalCharges 11\n",
      "Churn has 0 null values\n"
     ]
    }
   ],
   "source": [
    "for col, val in zip(df_train.isna().sum().index, df_train.isna().sum()):\n",
    "    if val>0:\n",
    "        print(col, val)\n",
    "    else:\n",
    "        print (f'{col} has {val} null values')"
   ]
  },
  {
   "cell_type": "code",
   "execution_count": 15,
   "id": "fe5963de",
   "metadata": {},
   "outputs": [],
   "source": [
    "df_train['TotalCharges'] = df_train['TotalCharges'].fillna(df_train['TotalCharges'].median())"
   ]
  },
  {
   "cell_type": "code",
   "execution_count": 16,
   "id": "b5fade2e",
   "metadata": {},
   "outputs": [
    {
     "data": {
      "text/plain": [
       "gender              0\n",
       "SeniorCitizen       0\n",
       "Partner             0\n",
       "Dependents          0\n",
       "tenure              0\n",
       "PhoneService        0\n",
       "MultipleLines       0\n",
       "InternetService     0\n",
       "OnlineSecurity      0\n",
       "OnlineBackup        0\n",
       "DeviceProtection    0\n",
       "TechSupport         0\n",
       "StreamingTV         0\n",
       "StreamingMovies     0\n",
       "Contract            0\n",
       "PaperlessBilling    0\n",
       "PaymentMethod       0\n",
       "MonthlyCharges      0\n",
       "TotalCharges        0\n",
       "Churn               0\n",
       "dtype: int64"
      ]
     },
     "execution_count": 16,
     "metadata": {},
     "output_type": "execute_result"
    }
   ],
   "source": [
    "df_train.isna().sum()"
   ]
  },
  {
   "cell_type": "code",
   "execution_count": 17,
   "id": "cc87d0e6",
   "metadata": {},
   "outputs": [
    {
     "data": {
      "text/plain": [
       "0      29.85\n",
       "1    1889.50\n",
       "2     108.15\n",
       "3    1840.75\n",
       "4     151.65\n",
       "Name: TotalCharges, dtype: float64"
      ]
     },
     "execution_count": 17,
     "metadata": {},
     "output_type": "execute_result"
    }
   ],
   "source": [
    "df_train['TotalCharges'].head()"
   ]
  },
  {
   "cell_type": "markdown",
   "id": "4da4b8ab",
   "metadata": {},
   "source": [
    "* The features 'TotalCharges' and 'MonthlyCharges' are converted to float\n",
    "* From the above analysis for 'TotalCharges' feature, the missing values are very less.\n",
    "* Imputing the missing values in 'TotalCharges' feature with median value."
   ]
  },
  {
   "cell_type": "code",
   "execution_count": null,
   "id": "6a1f7106",
   "metadata": {},
   "outputs": [],
   "source": []
  },
  {
   "cell_type": "code",
   "execution_count": 18,
   "id": "74bb6ca1",
   "metadata": {
    "scrolled": true
   },
   "outputs": [
    {
     "data": {
      "text/html": [
       "<div>\n",
       "<style scoped>\n",
       "    .dataframe tbody tr th:only-of-type {\n",
       "        vertical-align: middle;\n",
       "    }\n",
       "\n",
       "    .dataframe tbody tr th {\n",
       "        vertical-align: top;\n",
       "    }\n",
       "\n",
       "    .dataframe thead th {\n",
       "        text-align: right;\n",
       "    }\n",
       "</style>\n",
       "<table border=\"1\" class=\"dataframe\">\n",
       "  <thead>\n",
       "    <tr style=\"text-align: right;\">\n",
       "      <th></th>\n",
       "      <th>gender</th>\n",
       "      <th>SeniorCitizen</th>\n",
       "      <th>Partner</th>\n",
       "      <th>Dependents</th>\n",
       "      <th>tenure</th>\n",
       "      <th>PhoneService</th>\n",
       "      <th>MultipleLines</th>\n",
       "      <th>InternetService</th>\n",
       "      <th>OnlineSecurity</th>\n",
       "      <th>OnlineBackup</th>\n",
       "      <th>DeviceProtection</th>\n",
       "      <th>TechSupport</th>\n",
       "      <th>StreamingTV</th>\n",
       "      <th>StreamingMovies</th>\n",
       "      <th>Contract</th>\n",
       "      <th>PaperlessBilling</th>\n",
       "      <th>PaymentMethod</th>\n",
       "      <th>MonthlyCharges</th>\n",
       "      <th>TotalCharges</th>\n",
       "      <th>Churn</th>\n",
       "    </tr>\n",
       "  </thead>\n",
       "  <tbody>\n",
       "    <tr>\n",
       "      <th>0</th>\n",
       "      <td>Female</td>\n",
       "      <td>0</td>\n",
       "      <td>Yes</td>\n",
       "      <td>No</td>\n",
       "      <td>1</td>\n",
       "      <td>No</td>\n",
       "      <td>No phone service</td>\n",
       "      <td>DSL</td>\n",
       "      <td>No</td>\n",
       "      <td>Yes</td>\n",
       "      <td>No</td>\n",
       "      <td>No</td>\n",
       "      <td>No</td>\n",
       "      <td>No</td>\n",
       "      <td>Month-to-month</td>\n",
       "      <td>Yes</td>\n",
       "      <td>Electronic check</td>\n",
       "      <td>29.85</td>\n",
       "      <td>29.85</td>\n",
       "      <td>No</td>\n",
       "    </tr>\n",
       "    <tr>\n",
       "      <th>1</th>\n",
       "      <td>Male</td>\n",
       "      <td>0</td>\n",
       "      <td>No</td>\n",
       "      <td>No</td>\n",
       "      <td>34</td>\n",
       "      <td>Yes</td>\n",
       "      <td>No</td>\n",
       "      <td>DSL</td>\n",
       "      <td>Yes</td>\n",
       "      <td>No</td>\n",
       "      <td>Yes</td>\n",
       "      <td>No</td>\n",
       "      <td>No</td>\n",
       "      <td>No</td>\n",
       "      <td>One year</td>\n",
       "      <td>No</td>\n",
       "      <td>Mailed check</td>\n",
       "      <td>56.95</td>\n",
       "      <td>1889.50</td>\n",
       "      <td>No</td>\n",
       "    </tr>\n",
       "    <tr>\n",
       "      <th>2</th>\n",
       "      <td>Male</td>\n",
       "      <td>0</td>\n",
       "      <td>No</td>\n",
       "      <td>No</td>\n",
       "      <td>2</td>\n",
       "      <td>Yes</td>\n",
       "      <td>No</td>\n",
       "      <td>DSL</td>\n",
       "      <td>Yes</td>\n",
       "      <td>Yes</td>\n",
       "      <td>No</td>\n",
       "      <td>No</td>\n",
       "      <td>No</td>\n",
       "      <td>No</td>\n",
       "      <td>Month-to-month</td>\n",
       "      <td>Yes</td>\n",
       "      <td>Mailed check</td>\n",
       "      <td>53.85</td>\n",
       "      <td>108.15</td>\n",
       "      <td>Yes</td>\n",
       "    </tr>\n",
       "    <tr>\n",
       "      <th>3</th>\n",
       "      <td>Male</td>\n",
       "      <td>0</td>\n",
       "      <td>No</td>\n",
       "      <td>No</td>\n",
       "      <td>45</td>\n",
       "      <td>No</td>\n",
       "      <td>No phone service</td>\n",
       "      <td>DSL</td>\n",
       "      <td>Yes</td>\n",
       "      <td>No</td>\n",
       "      <td>Yes</td>\n",
       "      <td>Yes</td>\n",
       "      <td>No</td>\n",
       "      <td>No</td>\n",
       "      <td>One year</td>\n",
       "      <td>No</td>\n",
       "      <td>Bank transfer (automatic)</td>\n",
       "      <td>42.30</td>\n",
       "      <td>1840.75</td>\n",
       "      <td>No</td>\n",
       "    </tr>\n",
       "    <tr>\n",
       "      <th>4</th>\n",
       "      <td>Female</td>\n",
       "      <td>0</td>\n",
       "      <td>No</td>\n",
       "      <td>No</td>\n",
       "      <td>2</td>\n",
       "      <td>Yes</td>\n",
       "      <td>No</td>\n",
       "      <td>Fiber optic</td>\n",
       "      <td>No</td>\n",
       "      <td>No</td>\n",
       "      <td>No</td>\n",
       "      <td>No</td>\n",
       "      <td>No</td>\n",
       "      <td>No</td>\n",
       "      <td>Month-to-month</td>\n",
       "      <td>Yes</td>\n",
       "      <td>Electronic check</td>\n",
       "      <td>70.70</td>\n",
       "      <td>151.65</td>\n",
       "      <td>Yes</td>\n",
       "    </tr>\n",
       "  </tbody>\n",
       "</table>\n",
       "</div>"
      ],
      "text/plain": [
       "   gender  SeniorCitizen Partner Dependents  tenure PhoneService  \\\n",
       "0  Female              0     Yes         No       1           No   \n",
       "1    Male              0      No         No      34          Yes   \n",
       "2    Male              0      No         No       2          Yes   \n",
       "3    Male              0      No         No      45           No   \n",
       "4  Female              0      No         No       2          Yes   \n",
       "\n",
       "      MultipleLines InternetService OnlineSecurity OnlineBackup  \\\n",
       "0  No phone service             DSL             No          Yes   \n",
       "1                No             DSL            Yes           No   \n",
       "2                No             DSL            Yes          Yes   \n",
       "3  No phone service             DSL            Yes           No   \n",
       "4                No     Fiber optic             No           No   \n",
       "\n",
       "  DeviceProtection TechSupport StreamingTV StreamingMovies        Contract  \\\n",
       "0               No          No          No              No  Month-to-month   \n",
       "1              Yes          No          No              No        One year   \n",
       "2               No          No          No              No  Month-to-month   \n",
       "3              Yes         Yes          No              No        One year   \n",
       "4               No          No          No              No  Month-to-month   \n",
       "\n",
       "  PaperlessBilling              PaymentMethod  MonthlyCharges  TotalCharges  \\\n",
       "0              Yes           Electronic check           29.85         29.85   \n",
       "1               No               Mailed check           56.95       1889.50   \n",
       "2              Yes               Mailed check           53.85        108.15   \n",
       "3               No  Bank transfer (automatic)           42.30       1840.75   \n",
       "4              Yes           Electronic check           70.70        151.65   \n",
       "\n",
       "  Churn  \n",
       "0    No  \n",
       "1    No  \n",
       "2   Yes  \n",
       "3    No  \n",
       "4   Yes  "
      ]
     },
     "execution_count": 18,
     "metadata": {},
     "output_type": "execute_result"
    }
   ],
   "source": [
    "df_train.head()"
   ]
  },
  {
   "cell_type": "code",
   "execution_count": null,
   "id": "c3302afe",
   "metadata": {},
   "outputs": [],
   "source": []
  },
  {
   "cell_type": "code",
   "execution_count": 19,
   "id": "4f276ae3",
   "metadata": {},
   "outputs": [],
   "source": [
    "ohe_data = df_train[['Partner', 'Dependents', 'PhoneService', 'MultipleLines', 'InternetService', 'OnlineSecurity', \n",
    "                     'OnlineBackup', 'DeviceProtection', 'TechSupport', 'StreamingTV', 'StreamingMovies',\n",
    "                     'PaperlessBilling', 'PaymentMethod', 'gender', 'Contract']]\n",
    "\n",
    "def One_Hot_Encoder(df):\n",
    "    ohe = OneHotEncoder(sparse=False)\n",
    "    train_data = pd.DataFrame()\n",
    "    for name in df.columns:\n",
    "#         print(name)\n",
    "        df_ohe = ohe.fit_transform(df[[name]])\n",
    "        df_hot_encoded = pd.DataFrame(df_ohe, index=df.index)\n",
    "#         print(df_hot_encoded)\n",
    "        df_hot_encoded.columns = ohe.get_feature_names([name])\n",
    "#         print(df_hot_encoded)\n",
    "        train_data = pd.concat([train_data, df_hot_encoded], axis=1)\n",
    "    return train_data"
   ]
  },
  {
   "cell_type": "code",
   "execution_count": 20,
   "id": "37ea52c8",
   "metadata": {},
   "outputs": [
    {
     "name": "stdout",
     "output_type": "stream",
     "text": [
      "['Yes' 'No']\n",
      "['No' 'Yes']\n",
      "['No' 'Yes']\n",
      "['No phone service' 'No' 'Yes']\n",
      "['DSL' 'Fiber optic' 'No']\n",
      "['No' 'Yes' 'No internet service']\n",
      "['Yes' 'No' 'No internet service']\n",
      "['No' 'Yes' 'No internet service']\n",
      "['No' 'Yes' 'No internet service']\n",
      "['No' 'Yes' 'No internet service']\n",
      "['No' 'Yes' 'No internet service']\n",
      "['Yes' 'No']\n",
      "['Electronic check' 'Mailed check' 'Bank transfer (automatic)'\n",
      " 'Credit card (automatic)']\n",
      "['Female' 'Male']\n",
      "['Month-to-month' 'One year' 'Two year']\n"
     ]
    }
   ],
   "source": [
    "for name in ohe_data.columns:\n",
    "    print (ohe_data[name].unique())"
   ]
  },
  {
   "cell_type": "code",
   "execution_count": 21,
   "id": "db6dfa05",
   "metadata": {},
   "outputs": [],
   "source": [
    "ohe_data_encoded = One_Hot_Encoder(ohe_data)"
   ]
  },
  {
   "cell_type": "code",
   "execution_count": 22,
   "id": "e2bf895d",
   "metadata": {},
   "outputs": [
    {
     "data": {
      "text/plain": [
       "(7043, 41)"
      ]
     },
     "execution_count": 22,
     "metadata": {},
     "output_type": "execute_result"
    }
   ],
   "source": [
    "ohe_data_encoded.shape"
   ]
  },
  {
   "cell_type": "code",
   "execution_count": 23,
   "id": "c510432e",
   "metadata": {},
   "outputs": [
    {
     "data": {
      "text/plain": [
       "Index(['Partner_No', 'Partner_Yes', 'Dependents_No', 'Dependents_Yes',\n",
       "       'PhoneService_No', 'PhoneService_Yes', 'MultipleLines_No',\n",
       "       'MultipleLines_No phone service', 'MultipleLines_Yes',\n",
       "       'InternetService_DSL', 'InternetService_Fiber optic',\n",
       "       'InternetService_No', 'OnlineSecurity_No',\n",
       "       'OnlineSecurity_No internet service', 'OnlineSecurity_Yes',\n",
       "       'OnlineBackup_No', 'OnlineBackup_No internet service',\n",
       "       'OnlineBackup_Yes', 'DeviceProtection_No',\n",
       "       'DeviceProtection_No internet service', 'DeviceProtection_Yes',\n",
       "       'TechSupport_No', 'TechSupport_No internet service', 'TechSupport_Yes',\n",
       "       'StreamingTV_No', 'StreamingTV_No internet service', 'StreamingTV_Yes',\n",
       "       'StreamingMovies_No', 'StreamingMovies_No internet service',\n",
       "       'StreamingMovies_Yes', 'PaperlessBilling_No', 'PaperlessBilling_Yes',\n",
       "       'PaymentMethod_Bank transfer (automatic)',\n",
       "       'PaymentMethod_Credit card (automatic)',\n",
       "       'PaymentMethod_Electronic check', 'PaymentMethod_Mailed check',\n",
       "       'gender_Female', 'gender_Male', 'Contract_Month-to-month',\n",
       "       'Contract_One year', 'Contract_Two year'],\n",
       "      dtype='object')"
      ]
     },
     "execution_count": 23,
     "metadata": {},
     "output_type": "execute_result"
    }
   ],
   "source": [
    "ohe_data_encoded.columns"
   ]
  },
  {
   "cell_type": "code",
   "execution_count": 24,
   "id": "cfdceb76",
   "metadata": {},
   "outputs": [],
   "source": [
    "df_train = df_train.drop(ohe_data, axis=1)"
   ]
  },
  {
   "cell_type": "code",
   "execution_count": 25,
   "id": "b6b8fd35",
   "metadata": {},
   "outputs": [
    {
     "data": {
      "text/html": [
       "<div>\n",
       "<style scoped>\n",
       "    .dataframe tbody tr th:only-of-type {\n",
       "        vertical-align: middle;\n",
       "    }\n",
       "\n",
       "    .dataframe tbody tr th {\n",
       "        vertical-align: top;\n",
       "    }\n",
       "\n",
       "    .dataframe thead th {\n",
       "        text-align: right;\n",
       "    }\n",
       "</style>\n",
       "<table border=\"1\" class=\"dataframe\">\n",
       "  <thead>\n",
       "    <tr style=\"text-align: right;\">\n",
       "      <th></th>\n",
       "      <th>SeniorCitizen</th>\n",
       "      <th>tenure</th>\n",
       "      <th>MonthlyCharges</th>\n",
       "      <th>TotalCharges</th>\n",
       "      <th>Churn</th>\n",
       "    </tr>\n",
       "  </thead>\n",
       "  <tbody>\n",
       "    <tr>\n",
       "      <th>0</th>\n",
       "      <td>0</td>\n",
       "      <td>1</td>\n",
       "      <td>29.85</td>\n",
       "      <td>29.85</td>\n",
       "      <td>No</td>\n",
       "    </tr>\n",
       "    <tr>\n",
       "      <th>1</th>\n",
       "      <td>0</td>\n",
       "      <td>34</td>\n",
       "      <td>56.95</td>\n",
       "      <td>1889.50</td>\n",
       "      <td>No</td>\n",
       "    </tr>\n",
       "    <tr>\n",
       "      <th>2</th>\n",
       "      <td>0</td>\n",
       "      <td>2</td>\n",
       "      <td>53.85</td>\n",
       "      <td>108.15</td>\n",
       "      <td>Yes</td>\n",
       "    </tr>\n",
       "    <tr>\n",
       "      <th>3</th>\n",
       "      <td>0</td>\n",
       "      <td>45</td>\n",
       "      <td>42.30</td>\n",
       "      <td>1840.75</td>\n",
       "      <td>No</td>\n",
       "    </tr>\n",
       "    <tr>\n",
       "      <th>4</th>\n",
       "      <td>0</td>\n",
       "      <td>2</td>\n",
       "      <td>70.70</td>\n",
       "      <td>151.65</td>\n",
       "      <td>Yes</td>\n",
       "    </tr>\n",
       "  </tbody>\n",
       "</table>\n",
       "</div>"
      ],
      "text/plain": [
       "   SeniorCitizen  tenure  MonthlyCharges  TotalCharges Churn\n",
       "0              0       1           29.85         29.85    No\n",
       "1              0      34           56.95       1889.50    No\n",
       "2              0       2           53.85        108.15   Yes\n",
       "3              0      45           42.30       1840.75    No\n",
       "4              0       2           70.70        151.65   Yes"
      ]
     },
     "execution_count": 25,
     "metadata": {},
     "output_type": "execute_result"
    }
   ],
   "source": [
    "df_train.head()"
   ]
  },
  {
   "cell_type": "code",
   "execution_count": 26,
   "id": "f083571d",
   "metadata": {},
   "outputs": [],
   "source": [
    "train_data = pd.concat([ohe_data_encoded, df_train], axis=1)"
   ]
  },
  {
   "cell_type": "code",
   "execution_count": 27,
   "id": "9831e034",
   "metadata": {},
   "outputs": [
    {
     "data": {
      "text/plain": [
       "(7043, 46)"
      ]
     },
     "execution_count": 27,
     "metadata": {},
     "output_type": "execute_result"
    }
   ],
   "source": [
    "train_data.shape"
   ]
  },
  {
   "cell_type": "code",
   "execution_count": 28,
   "id": "2fbc344b",
   "metadata": {},
   "outputs": [],
   "source": [
    "#Converting 'Churn' column values, 1 - yes and 0 - no\n",
    "train_data['Churn'].replace(to_replace='Yes', value=1, inplace=True)\n",
    "train_data['Churn'].replace(to_replace='No', value=0, inplace=True)"
   ]
  },
  {
   "cell_type": "code",
   "execution_count": 29,
   "id": "39752dca",
   "metadata": {
    "scrolled": false
   },
   "outputs": [
    {
     "data": {
      "text/html": [
       "<div>\n",
       "<style scoped>\n",
       "    .dataframe tbody tr th:only-of-type {\n",
       "        vertical-align: middle;\n",
       "    }\n",
       "\n",
       "    .dataframe tbody tr th {\n",
       "        vertical-align: top;\n",
       "    }\n",
       "\n",
       "    .dataframe thead th {\n",
       "        text-align: right;\n",
       "    }\n",
       "</style>\n",
       "<table border=\"1\" class=\"dataframe\">\n",
       "  <thead>\n",
       "    <tr style=\"text-align: right;\">\n",
       "      <th></th>\n",
       "      <th>Partner_No</th>\n",
       "      <th>Partner_Yes</th>\n",
       "      <th>Dependents_No</th>\n",
       "      <th>Dependents_Yes</th>\n",
       "      <th>PhoneService_No</th>\n",
       "      <th>PhoneService_Yes</th>\n",
       "      <th>MultipleLines_No</th>\n",
       "      <th>MultipleLines_No phone service</th>\n",
       "      <th>MultipleLines_Yes</th>\n",
       "      <th>InternetService_DSL</th>\n",
       "      <th>...</th>\n",
       "      <th>gender_Female</th>\n",
       "      <th>gender_Male</th>\n",
       "      <th>Contract_Month-to-month</th>\n",
       "      <th>Contract_One year</th>\n",
       "      <th>Contract_Two year</th>\n",
       "      <th>SeniorCitizen</th>\n",
       "      <th>tenure</th>\n",
       "      <th>MonthlyCharges</th>\n",
       "      <th>TotalCharges</th>\n",
       "      <th>Churn</th>\n",
       "    </tr>\n",
       "  </thead>\n",
       "  <tbody>\n",
       "    <tr>\n",
       "      <th>0</th>\n",
       "      <td>0.0</td>\n",
       "      <td>1.0</td>\n",
       "      <td>1.0</td>\n",
       "      <td>0.0</td>\n",
       "      <td>1.0</td>\n",
       "      <td>0.0</td>\n",
       "      <td>0.0</td>\n",
       "      <td>1.0</td>\n",
       "      <td>0.0</td>\n",
       "      <td>1.0</td>\n",
       "      <td>...</td>\n",
       "      <td>1.0</td>\n",
       "      <td>0.0</td>\n",
       "      <td>1.0</td>\n",
       "      <td>0.0</td>\n",
       "      <td>0.0</td>\n",
       "      <td>0</td>\n",
       "      <td>1</td>\n",
       "      <td>29.85</td>\n",
       "      <td>29.85</td>\n",
       "      <td>0</td>\n",
       "    </tr>\n",
       "    <tr>\n",
       "      <th>1</th>\n",
       "      <td>1.0</td>\n",
       "      <td>0.0</td>\n",
       "      <td>1.0</td>\n",
       "      <td>0.0</td>\n",
       "      <td>0.0</td>\n",
       "      <td>1.0</td>\n",
       "      <td>1.0</td>\n",
       "      <td>0.0</td>\n",
       "      <td>0.0</td>\n",
       "      <td>1.0</td>\n",
       "      <td>...</td>\n",
       "      <td>0.0</td>\n",
       "      <td>1.0</td>\n",
       "      <td>0.0</td>\n",
       "      <td>1.0</td>\n",
       "      <td>0.0</td>\n",
       "      <td>0</td>\n",
       "      <td>34</td>\n",
       "      <td>56.95</td>\n",
       "      <td>1889.50</td>\n",
       "      <td>0</td>\n",
       "    </tr>\n",
       "    <tr>\n",
       "      <th>2</th>\n",
       "      <td>1.0</td>\n",
       "      <td>0.0</td>\n",
       "      <td>1.0</td>\n",
       "      <td>0.0</td>\n",
       "      <td>0.0</td>\n",
       "      <td>1.0</td>\n",
       "      <td>1.0</td>\n",
       "      <td>0.0</td>\n",
       "      <td>0.0</td>\n",
       "      <td>1.0</td>\n",
       "      <td>...</td>\n",
       "      <td>0.0</td>\n",
       "      <td>1.0</td>\n",
       "      <td>1.0</td>\n",
       "      <td>0.0</td>\n",
       "      <td>0.0</td>\n",
       "      <td>0</td>\n",
       "      <td>2</td>\n",
       "      <td>53.85</td>\n",
       "      <td>108.15</td>\n",
       "      <td>1</td>\n",
       "    </tr>\n",
       "    <tr>\n",
       "      <th>3</th>\n",
       "      <td>1.0</td>\n",
       "      <td>0.0</td>\n",
       "      <td>1.0</td>\n",
       "      <td>0.0</td>\n",
       "      <td>1.0</td>\n",
       "      <td>0.0</td>\n",
       "      <td>0.0</td>\n",
       "      <td>1.0</td>\n",
       "      <td>0.0</td>\n",
       "      <td>1.0</td>\n",
       "      <td>...</td>\n",
       "      <td>0.0</td>\n",
       "      <td>1.0</td>\n",
       "      <td>0.0</td>\n",
       "      <td>1.0</td>\n",
       "      <td>0.0</td>\n",
       "      <td>0</td>\n",
       "      <td>45</td>\n",
       "      <td>42.30</td>\n",
       "      <td>1840.75</td>\n",
       "      <td>0</td>\n",
       "    </tr>\n",
       "    <tr>\n",
       "      <th>4</th>\n",
       "      <td>1.0</td>\n",
       "      <td>0.0</td>\n",
       "      <td>1.0</td>\n",
       "      <td>0.0</td>\n",
       "      <td>0.0</td>\n",
       "      <td>1.0</td>\n",
       "      <td>1.0</td>\n",
       "      <td>0.0</td>\n",
       "      <td>0.0</td>\n",
       "      <td>0.0</td>\n",
       "      <td>...</td>\n",
       "      <td>1.0</td>\n",
       "      <td>0.0</td>\n",
       "      <td>1.0</td>\n",
       "      <td>0.0</td>\n",
       "      <td>0.0</td>\n",
       "      <td>0</td>\n",
       "      <td>2</td>\n",
       "      <td>70.70</td>\n",
       "      <td>151.65</td>\n",
       "      <td>1</td>\n",
       "    </tr>\n",
       "  </tbody>\n",
       "</table>\n",
       "<p>5 rows × 46 columns</p>\n",
       "</div>"
      ],
      "text/plain": [
       "   Partner_No  Partner_Yes  Dependents_No  Dependents_Yes  PhoneService_No  \\\n",
       "0         0.0          1.0            1.0             0.0              1.0   \n",
       "1         1.0          0.0            1.0             0.0              0.0   \n",
       "2         1.0          0.0            1.0             0.0              0.0   \n",
       "3         1.0          0.0            1.0             0.0              1.0   \n",
       "4         1.0          0.0            1.0             0.0              0.0   \n",
       "\n",
       "   PhoneService_Yes  MultipleLines_No  MultipleLines_No phone service  \\\n",
       "0               0.0               0.0                             1.0   \n",
       "1               1.0               1.0                             0.0   \n",
       "2               1.0               1.0                             0.0   \n",
       "3               0.0               0.0                             1.0   \n",
       "4               1.0               1.0                             0.0   \n",
       "\n",
       "   MultipleLines_Yes  InternetService_DSL  ...  gender_Female  gender_Male  \\\n",
       "0                0.0                  1.0  ...            1.0          0.0   \n",
       "1                0.0                  1.0  ...            0.0          1.0   \n",
       "2                0.0                  1.0  ...            0.0          1.0   \n",
       "3                0.0                  1.0  ...            0.0          1.0   \n",
       "4                0.0                  0.0  ...            1.0          0.0   \n",
       "\n",
       "   Contract_Month-to-month  Contract_One year  Contract_Two year  \\\n",
       "0                      1.0                0.0                0.0   \n",
       "1                      0.0                1.0                0.0   \n",
       "2                      1.0                0.0                0.0   \n",
       "3                      0.0                1.0                0.0   \n",
       "4                      1.0                0.0                0.0   \n",
       "\n",
       "   SeniorCitizen  tenure  MonthlyCharges  TotalCharges  Churn  \n",
       "0              0       1           29.85         29.85      0  \n",
       "1              0      34           56.95       1889.50      0  \n",
       "2              0       2           53.85        108.15      1  \n",
       "3              0      45           42.30       1840.75      0  \n",
       "4              0       2           70.70        151.65      1  \n",
       "\n",
       "[5 rows x 46 columns]"
      ]
     },
     "execution_count": 29,
     "metadata": {},
     "output_type": "execute_result"
    }
   ],
   "source": [
    "train_data.head()"
   ]
  },
  {
   "cell_type": "code",
   "execution_count": 30,
   "id": "cd9a5d02",
   "metadata": {
    "scrolled": true
   },
   "outputs": [],
   "source": [
    "#dropping churn column as it is dependent variable and will not be used in data preprocessing\n",
    "#df_train2 = df_train.drop('Churn',axis=1)\n",
    "#df_train2.dtypes"
   ]
  },
  {
   "cell_type": "markdown",
   "id": "9f4dfc5f",
   "metadata": {},
   "source": [
    "### Detecting and handling outliers"
   ]
  },
  {
   "cell_type": "code",
   "execution_count": 31,
   "id": "b388338e",
   "metadata": {},
   "outputs": [
    {
     "name": "stdout",
     "output_type": "stream",
     "text": [
      "Outliers in tenure: []\n",
      "Outliers in MonthlyCharges: []\n",
      "Outliers in TotalCharges: []\n"
     ]
    }
   ],
   "source": [
    "columns = ['tenure', 'MonthlyCharges', 'TotalCharges']\n",
    "for col in columns:\n",
    "    q1 = train_data[col].quantile(0.25)\n",
    "    q3 = train_data[col].quantile(0.75)\n",
    "    IQR = q3-q1\n",
    "    min_Value = q1-1.5*IQR\n",
    "    max_Value = q3+1.5*IQR\n",
    "\n",
    "    outliers = []\n",
    "    for i in train_data[col]:\n",
    "        #print(i)\n",
    "        if i< min_Value or i>max_Value:\n",
    "            outliers.append(i)\n",
    "    print(f\"Outliers in {col}:\",outliers)\n"
   ]
  },
  {
   "cell_type": "markdown",
   "id": "26a83fac",
   "metadata": {},
   "source": [
    "* There are no outliers in the dataset"
   ]
  },
  {
   "cell_type": "markdown",
   "id": "13baba8e",
   "metadata": {},
   "source": [
    "# Data Visualization"
   ]
  },
  {
   "cell_type": "code",
   "execution_count": 32,
   "id": "deaa4550",
   "metadata": {},
   "outputs": [],
   "source": [
    "import matplotlib.pyplot as plt"
   ]
  },
  {
   "cell_type": "code",
   "execution_count": 33,
   "id": "f8c9f9ed",
   "metadata": {
    "scrolled": true
   },
   "outputs": [],
   "source": [
    "def dist_box_plot(variable_name, color):\n",
    "    fig, ax = plt.subplots(1,2)\n",
    "    sns.set(rc={'figure.figsize':(15,5)})\n",
    "    sns.boxplot(train_data[variable_name], ax=ax[0], color=color).set(title=variable_name +' - Boxplot')\n",
    "    sns.distplot(train_data[variable_name], bins=20, ax=ax[1], color=color).set(title=variable_name +' - Distribution plot')\n",
    "    plt.show()"
   ]
  },
  {
   "cell_type": "code",
   "execution_count": 34,
   "id": "e5845196",
   "metadata": {},
   "outputs": [],
   "source": [
    "# plt.figure(figsize=(15,5))\n",
    "# plt.subplot(1, 2, 1)\n",
    "# plt.plot(history_train.history['loss'], label='train_loss')\n",
    "# plt.plot(history_train.history['loss'], label='test_loss')\n",
    "# plt.xticks([0,1,2,3,4], labels = ['1','2','3','4','5'])\n",
    "# plt.legend(['train_loss', 'test_loss'], loc='upper right')\n",
    "# plt.title('Model Losses')\n",
    "# plt.ylabel('Loss')\n",
    "# plt.xlabel('Epoch')\n",
    "# plt.grid()"
   ]
  },
  {
   "cell_type": "code",
   "execution_count": 35,
   "id": "a7d3bb57",
   "metadata": {},
   "outputs": [
    {
     "data": {
      "image/png": "[encoded data removed]",
      "text/plain": [
       "<Figure size 432x288 with 2 Axes>"
      ]
     },
     "metadata": {
      "needs_background": "light"
     },
     "output_type": "display_data"
    }
   ],
   "source": [
    "dist_box_plot('tenure', 'purple')"
   ]
  },
  {
   "cell_type": "code",
   "execution_count": 36,
   "id": "fcdf3cb6",
   "metadata": {},
   "outputs": [
    {
     "data": {
      "image/png": "[encoded data removed]",
      "text/plain": [
       "<Figure size 720x288 with 1 Axes>"
      ]
     },
     "metadata": {},
     "output_type": "display_data"
    }
   ],
   "source": [
    "plt.figure(figsize=(10,4))\n",
    "plt.hist(train_data['tenure'], color = '#85C1E9', bins = 15)\n",
    "plt.title('Histogram of Tenure',fontsize = 15)\n",
    "plt.xlabel('Tenure', fontsize = 12)\n",
    "plt.ylabel('Count', fontsize = 12)\n",
    "plt.show()"
   ]
  },
  {
   "cell_type": "markdown",
   "id": "76ab851c",
   "metadata": {},
   "source": []
  },
  {
   "cell_type": "code",
   "execution_count": 37,
   "id": "f01a9977",
   "metadata": {},
   "outputs": [
    {
     "data": {
      "text/plain": [
       "32.37114865824223"
      ]
     },
     "execution_count": 37,
     "metadata": {},
     "output_type": "execute_result"
    }
   ],
   "source": [
    "train_data['tenure'].mean()"
   ]
  },
  {
   "cell_type": "code",
   "execution_count": 38,
   "id": "23dc7015",
   "metadata": {},
   "outputs": [
    {
     "data": {
      "text/plain": [
       "29.0"
      ]
     },
     "execution_count": 38,
     "metadata": {},
     "output_type": "execute_result"
    }
   ],
   "source": [
    "train_data['tenure'].median()"
   ]
  },
  {
   "cell_type": "markdown",
   "id": "a6219ed6",
   "metadata": {},
   "source": [
    "* From the above distribution graphs, we can say that the 'tenure' variable in data doesn't have outliers."
   ]
  },
  {
   "cell_type": "code",
   "execution_count": 39,
   "id": "2401514d",
   "metadata": {},
   "outputs": [
    {
     "name": "stdout",
     "output_type": "stream",
     "text": [
      "Mean: 64.76169246059922 \n",
      "Median: 70.35\n"
     ]
    }
   ],
   "source": [
    "print(\"Mean:\",train_data['MonthlyCharges'].mean(),\"\\nMedian:\",train_data['MonthlyCharges'].median())"
   ]
  },
  {
   "cell_type": "markdown",
   "id": "afdc95f8",
   "metadata": {},
   "source": [
    "*From the above analysis we can say the Monthly_charges variable doesn't have outliers"
   ]
  },
  {
   "cell_type": "code",
   "execution_count": 40,
   "id": "86e5783e",
   "metadata": {},
   "outputs": [
    {
     "data": {
      "image/png": "[encoded data removed]",
      "text/plain": [
       "<Figure size 1080x360 with 2 Axes>"
      ]
     },
     "metadata": {},
     "output_type": "display_data"
    }
   ],
   "source": [
    "dist_box_plot('MonthlyCharges', 'skyblue')"
   ]
  },
  {
   "cell_type": "code",
   "execution_count": 41,
   "id": "43b559cd",
   "metadata": {},
   "outputs": [
    {
     "name": "stdout",
     "output_type": "stream",
     "text": [
      "Mean: 2281.9169281556187 \n",
      "Median: 1397.475\n"
     ]
    }
   ],
   "source": [
    "print(\"Mean:\",train_data['TotalCharges'].mean(),\"\\nMedian:\",train_data['TotalCharges'].median())"
   ]
  },
  {
   "cell_type": "code",
   "execution_count": 42,
   "id": "f6ec447d",
   "metadata": {},
   "outputs": [
    {
     "data": {
      "image/png": "[encoded data removed]",
      "text/plain": [
       "<Figure size 1080x360 with 2 Axes>"
      ]
     },
     "metadata": {},
     "output_type": "display_data"
    }
   ],
   "source": [
    "dist_box_plot('TotalCharges', 'crimson')"
   ]
  },
  {
   "cell_type": "markdown",
   "id": "841bf95e",
   "metadata": {},
   "source": [
    "# Exploratory Data Analysis - EDA"
   ]
  },
  {
   "cell_type": "code",
   "execution_count": 43,
   "id": "bda1b3bf",
   "metadata": {},
   "outputs": [
    {
     "data": {
      "text/plain": [
       "<AxesSubplot:>"
      ]
     },
     "execution_count": 43,
     "metadata": {},
     "output_type": "execute_result"
    },
    {
     "data": {
      "image/png": "[encoded data removed]",
      "text/plain": [
       "<Figure size 1080x360 with 2 Axes>"
      ]
     },
     "metadata": {},
     "output_type": "display_data"
    }
   ],
   "source": [
    "# Correlation between numerical values using HeatMap\n",
    "corr_variables = train_data[['SeniorCitizen', 'tenure', 'MonthlyCharges', 'TotalCharges', 'Churn']]\n",
    "corr = sns.heatmap(corr_variables.corr(),annot=True,cmap=\"YlGnBu\")\n",
    "corr"
   ]
  },
  {
   "cell_type": "markdown",
   "id": "08def8a3",
   "metadata": {},
   "source": [
    "#### From the above correlation heatmap\n",
    "* We can say that the correlation between Churn and MonthlyCharges is 0.19 indicating there is weak positive relationship between these variables. If there is a unit increase in MonthlyCharges, there is 19% increase in the churn rate.\n",
    "* Correlation between tenure and churn is -0.35, indicating weak negative relationship. Decrease in the tenure leads to loss of customers by 35%.\n",
    "* Total Charges and Tenure have a strong positive correlation (0.83) meaning increasing the tenure will increase the cost also."
   ]
  },
  {
   "cell_type": "code",
   "execution_count": 44,
   "id": "e86c73b9",
   "metadata": {},
   "outputs": [
    {
     "data": {
      "text/plain": [
       "<AxesSubplot:xlabel='Churn', ylabel='count'>"
      ]
     },
     "execution_count": 44,
     "metadata": {},
     "output_type": "execute_result"
    },
    {
     "data": {
      "image/png": "[encoded data removed]",
      "text/plain": [
       "<Figure size 360x360 with 1 Axes>"
      ]
     },
     "metadata": {},
     "output_type": "display_data"
    }
   ],
   "source": [
    "sns.set(rc={'figure.figsize':(5,5)})\n",
    "sns.countplot(data = train_data, x= 'Churn')"
   ]
  },
  {
   "cell_type": "markdown",
   "id": "9414543e",
   "metadata": {},
   "source": [
    "From above barplot \n",
    "* The customer churn rate is less in comparison with the customers who stay"
   ]
  },
  {
   "cell_type": "code",
   "execution_count": 45,
   "id": "78b3c464",
   "metadata": {
    "scrolled": true
   },
   "outputs": [
    {
     "data": {
      "text/plain": [
       "<AxesSubplot:xlabel='gender', ylabel='count'>"
      ]
     },
     "execution_count": 45,
     "metadata": {},
     "output_type": "execute_result"
    },
    {
     "data": {
      "image/png": "[encoded data removed]",
      "text/plain": [
       "<Figure size 360x288 with 1 Axes>"
      ]
     },
     "metadata": {},
     "output_type": "display_data"
    }
   ],
   "source": [
    "a1 = ohe_data[['gender']]\n",
    "a2 = train_data[['Churn']]\n",
    "plotting = pd.concat([a1, a2], axis=1)\n",
    "sns.set(rc={'figure.figsize':(5,4)})\n",
    "sns.countplot(data = plotting, x= 'gender',hue=\"Churn\")"
   ]
  },
  {
   "cell_type": "markdown",
   "id": "b5757007",
   "metadata": {},
   "source": [
    "* From above plot, we can interpret that there isn't much variation in the data. 'gender' does not have any significant relationship with the churn rate."
   ]
  },
  {
   "cell_type": "code",
   "execution_count": 46,
   "id": "872ea703",
   "metadata": {},
   "outputs": [
    {
     "data": {
      "text/plain": [
       "<AxesSubplot:xlabel='SeniorCitizen', ylabel='count'>"
      ]
     },
     "execution_count": 46,
     "metadata": {},
     "output_type": "execute_result"
    },
    {
     "data": {
      "image/png": "[encoded data removed]",
      "text/plain": [
       "<Figure size 360x288 with 1 Axes>"
      ]
     },
     "metadata": {},
     "output_type": "display_data"
    }
   ],
   "source": [
    "# a1 = train_data[['SeniorCitizen']]\n",
    "# a2 = train_data[['Churn']]\n",
    "# plotting = pd.concat([a1, a2], axis=1)\n",
    "sns.set(rc={'figure.figsize':(5,4)})\n",
    "sns.countplot(data=train_data,x='SeniorCitizen',hue='Churn')"
   ]
  },
  {
   "cell_type": "markdown",
   "id": "7cfb2f2e",
   "metadata": {},
   "source": [
    "* The percentage of customers who are senior citizens is very less compared to youth subscripton."
   ]
  },
  {
   "cell_type": "code",
   "execution_count": 47,
   "id": "8caac55e",
   "metadata": {},
   "outputs": [
    {
     "data": {
      "text/plain": [
       "<AxesSubplot:title={'center':'With Dependents'}, xlabel='Dependents', ylabel='count'>"
      ]
     },
     "execution_count": 47,
     "metadata": {},
     "output_type": "execute_result"
    },
    {
     "data": {
      "image/png": "[encoded data removed]",
      "text/plain": [
       "<Figure size 864x288 with 2 Axes>"
      ]
     },
     "metadata": {},
     "output_type": "display_data"
    }
   ],
   "source": [
    "a1 = ohe_data[['Partner', 'Dependents']]\n",
    "a2 = train_data[['Churn']]\n",
    "plotting = pd.concat([a1, a2], axis=1)\n",
    "figure, axis = plt.subplots(1,2,figsize=(12,4))\n",
    "axis[0].set_title('With Partner')\n",
    "axis[1].set_title('With Dependents')\n",
    "sns.countplot(data=plotting,x='Partner',hue='Churn',ax=axis[0],)\n",
    "sns.countplot(data=plotting,x='Dependents',hue='Churn',ax=axis[1])"
   ]
  },
  {
   "cell_type": "markdown",
   "id": "dd49dd72",
   "metadata": {},
   "source": [
    "* The customers with partners tend to churn more than the customers who have dependents.\n",
    "* Customers who do not have any partners churn more when compared to those who have partners."
   ]
  },
  {
   "cell_type": "code",
   "execution_count": 48,
   "id": "fb6d63f8",
   "metadata": {},
   "outputs": [
    {
     "data": {
      "text/plain": [
       "<AxesSubplot:xlabel='tenure', ylabel='Count'>"
      ]
     },
     "execution_count": 48,
     "metadata": {},
     "output_type": "execute_result"
    },
    {
     "data": {
      "image/png": "[encoded data removed]",
      "text/plain": [
       "<Figure size 720x288 with 1 Axes>"
      ]
     },
     "metadata": {},
     "output_type": "display_data"
    }
   ],
   "source": [
    "a1 = train_data[['tenure']]\n",
    "a2 = train_data[['Churn']]\n",
    "plotting = pd.concat([a1, a2], axis=1)\n",
    "sns.set(rc={'figure.figsize':(10,4)})\n",
    "sns.histplot(data=train_data,x='tenure',hue='Churn', bins=20)"
   ]
  },
  {
   "cell_type": "markdown",
   "id": "f86f2c7a",
   "metadata": {},
   "source": [
    "* Customers with less tenure (upto 5 to 10 months) tend to Churn more than long term customers.\n",
    "* Customers who have long term subscription are loyal to the company."
   ]
  },
  {
   "cell_type": "code",
   "execution_count": 49,
   "id": "55b7c8e8",
   "metadata": {},
   "outputs": [
    {
     "data": {
      "text/plain": [
       "<AxesSubplot:xlabel='Contract', ylabel='count'>"
      ]
     },
     "execution_count": 49,
     "metadata": {},
     "output_type": "execute_result"
    },
    {
     "data": {
      "image/png": "[encoded data removed]",
      "text/plain": [
       "<Figure size 504x360 with 1 Axes>"
      ]
     },
     "metadata": {},
     "output_type": "display_data"
    }
   ],
   "source": [
    "a1 = ohe_data[['Contract']]\n",
    "a2 = train_data[['Churn']]\n",
    "plotting = pd.concat([a1, a2], axis=1)\n",
    "sns.set(rc={'figure.figsize':(7,5)})\n",
    "sns.countplot(data=plotting,x='Contract',hue='Churn')"
   ]
  },
  {
   "cell_type": "markdown",
   "id": "fe329830",
   "metadata": {},
   "source": [
    "* The churn rate is more in customers who take month-to-month contracts.\n",
    "* Customers who take one or two year contracts churn less implying they renew the contract every time."
   ]
  },
  {
   "cell_type": "markdown",
   "id": "93c32375",
   "metadata": {},
   "source": [
    "## EDA Summary\n",
    "\n",
    "* We can say that the correlation between Churn and MonthlyCharges is 0.19 indicating there is weak positive relationship between these variables. If there is a unit increase in MonthlyCharges, there is 19% increase in the churn rate.\n",
    "* Correlation between tenure and churn is -0.35, indicating weak negative relationship. Decrease in the tenure leads to loss of customers by 35%.\n",
    "* Total Charges and Tenure have a strong positive correlation (0.83) meaning increasing the tenure will increase the cost also.\n",
    "* The customer churn rate is less in comparison with the customers who stay\n",
    "* From above plot, we can interpret that there isn't much variation in the data. 'gender' does not have any significant relationship with the churn rate.\n",
    "* The percentage of customers who are senior citizens is very less compared to youth subscripton.\n",
    "* The customers with partners tend to churn more than the customers who have dependents.\n",
    "* Customers who do not have any partners churn more when compared to those who have partners.\n",
    "* Customers with less tenure (upto 5 to 10 months) tend to Churn more than long term customers.\n",
    "* Customers who have long term subscription are loyal to the company.\n",
    "* The churn rate is more in customers who take month-to-month contracts.\n",
    "* Customers who take one or two year contracts churn less implying they renew the contract every time."
   ]
  },
  {
   "cell_type": "markdown",
   "id": "ee666bc5",
   "metadata": {},
   "source": [
    "# Predictive Modelling"
   ]
  },
  {
   "cell_type": "code",
   "execution_count": 50,
   "id": "1e959593",
   "metadata": {},
   "outputs": [],
   "source": [
    "# Taking x,y values from data frame\n",
    "y = train_data['Churn'].values\n",
    "X = train_data.drop('Churn',axis=1)\n",
    "\n",
    "# Scaling using MinMaxScalar\n",
    "scaled = MinMaxScaler(feature_range=(0,1))\n",
    "X_scaled = scaled.fit_transform(X)"
   ]
  },
  {
   "cell_type": "code",
   "execution_count": 51,
   "id": "50770887",
   "metadata": {},
   "outputs": [],
   "source": [
    "# Splitting train and test data\n",
    "X_train,X_test,y_train,y_test = train_test_split(X_scaled,y,test_size=0.2,random_state=30)"
   ]
  },
  {
   "cell_type": "markdown",
   "id": "ede05bf9",
   "metadata": {},
   "source": [
    "### Define a function to build differrent models"
   ]
  },
  {
   "cell_type": "code",
   "execution_count": 52,
   "id": "ada3c03d",
   "metadata": {},
   "outputs": [],
   "source": [
    "#Remove the nested array/List and convert into flat list to map with each feature for logistic regression\n",
    "def nestedList(l):\n",
    "    output=[]\n",
    "    for i in l:\n",
    "        for j in i:\n",
    "#             print(j)\n",
    "            output.append(j)\n",
    "    return output"
   ]
  },
  {
   "cell_type": "code",
   "execution_count": 70,
   "id": "8fba69b3",
   "metadata": {},
   "outputs": [],
   "source": [
    "model_dict = {\"logistic regression\": LogisticRegression(solver='liblinear', random_state=70),\n",
    "             \"random forest\": RandomForestClassifier(n_estimators=80,random_state=36),\n",
    "             'xgboost': XGBClassifier(),\n",
    "             \"svc\": SVC(kernel='linear'),\n",
    "             'decision tree': DecisionTreeClassifier(random_state=38)}\n",
    "\n",
    "def build_classification_models(model_name):\n",
    "    global Important_features\n",
    "    model = model_dict.get(model_name)\n",
    "    model = model.fit(X_train,y_train)\n",
    "    \n",
    "    y_pred = model.predict(X_test)\n",
    "    accuracy = accuracy_score(y_test,y_pred)\n",
    "    \n",
    "    if model_name != 'svc':\n",
    "        AUC = model.predict_proba(X_test)\n",
    "        ROC_AUC_Score = round(metrics.roc_auc_score(y_test,AUC[:,1]), 3)\n",
    "        fpr, tpr, _ = metrics.roc_curve(y_test, y_pred)\n",
    "        \n",
    "        # Finding important features from data using Logistic Regression model\n",
    "        if model_name == 'logistic regression':\n",
    "            important = model.coef_\n",
    "            output = nestedList(important)\n",
    "        else:\n",
    "            important = model.feature_importances_\n",
    "            \n",
    "        Features_important={}\n",
    "        featureNames = X.columns.values\n",
    "        if model_name != 'decision tree':\n",
    "            if model_name == 'logistic regression':\n",
    "                for i in range(len(output)):\n",
    "                    Features_important[featureNames[i]]=output[i]\n",
    "            else:\n",
    "                for i in range(len(important)):\n",
    "                    Features_important[featureNames[i]]=important[i]\n",
    "            \n",
    "            Important_features = dict(sorted(Features_important.items(),key= lambda x:x[1],reverse=True))\n",
    "        else:\n",
    "            pass\n",
    "    else:\n",
    "        report = classification_report(y_test,y_pred)\n",
    "        \n",
    "    \n",
    "    #kfold cross vallidation\n",
    "    kfold = KFold(n_splits=5)\n",
    "    cv = cross_val_score(model,X_scaled,y,cv=kfold)\n",
    "    \n",
    "    if model_name != 'svc':\n",
    "        return model, accuracy, ROC_AUC_Score, fpr, tpr, cv, Important_features\n",
    "    else:\n",
    "        return model, accuracy, cv, report"
   ]
  },
  {
   "cell_type": "markdown",
   "id": "3d5a12eb",
   "metadata": {},
   "source": [
    "#### Logistic Regression model"
   ]
  },
  {
   "cell_type": "code",
   "execution_count": 84,
   "id": "c0997d82",
   "metadata": {},
   "outputs": [],
   "source": [
    "model, acc_lr, roc_lr, fpr_lr, tpr_lr, cv_score_lr, ImpFeatures_lr = build_classification_models(\"logistic regression\")"
   ]
  },
  {
   "cell_type": "code",
   "execution_count": 85,
   "id": "c7ead7ea",
   "metadata": {},
   "outputs": [
    {
     "name": "stdout",
     "output_type": "stream",
     "text": [
      "Accuracy of the Logistic Regression model: 79.13%\n",
      "ROC score of the Logistic Regression model: 84.0%\n",
      "Cross validation accuracy of the Logistic Regression model: 81.05%\n"
     ]
    }
   ],
   "source": [
    "print(f\"Accuracy of the Logistic Regression model: {round(acc_lr*100, 2)}%\")\n",
    "print(f\"ROC score of the Logistic Regression model: {round(roc_lr*100, 2)}%\")\n",
    "print(f\"Cross validation accuracy of the Logistic Regression model: {round(max(cv_score_lr)*100, 2)}%\")"
   ]
  },
  {
   "cell_type": "code",
   "execution_count": 86,
   "id": "a1ce2a77",
   "metadata": {},
   "outputs": [
    {
     "data": {
      "image/png": "[encoded data removed]",
      "text/plain": [
       "<Figure size 504x360 with 2 Axes>"
      ]
     },
     "metadata": {},
     "output_type": "display_data"
    },
    {
     "name": "stdout",
     "output_type": "stream",
     "text": [
      "              precision    recall  f1-score   support\n",
      "\n",
      "           0       0.82      0.90      0.86      1001\n",
      "           1       0.68      0.52      0.59       408\n",
      "\n",
      "    accuracy                           0.79      1409\n",
      "   macro avg       0.75      0.71      0.73      1409\n",
      "weighted avg       0.78      0.79      0.78      1409\n",
      "\n"
     ]
    }
   ],
   "source": [
    "y_pred = model.predict(X_test)\n",
    "cm = confusion_matrix(y_test, y_pred)\n",
    "disp = ConfusionMatrixDisplay(confusion_matrix = cm, display_labels = model.classes_)\n",
    "disp.plot(cmap=plt.cm.Blues)\n",
    "plt.title(\"Logistic Regression - Confusion Matrix\")\n",
    "plt.grid(visible=False)\n",
    "plt.show()\n",
    "\n",
    "print(classification_report(y_test, y_pred))"
   ]
  },
  {
   "cell_type": "markdown",
   "id": "dff58e13",
   "metadata": {},
   "source": [
    "#### Random Forest model"
   ]
  },
  {
   "cell_type": "code",
   "execution_count": 87,
   "id": "46062a7f",
   "metadata": {},
   "outputs": [],
   "source": [
    "model, acc_rf, roc_rf, fpr_rf, tpr_rf, cv_score_rf, ImpFeatures_rf = build_classification_models(\"random forest\")"
   ]
  },
  {
   "cell_type": "code",
   "execution_count": 88,
   "id": "c1e346f4",
   "metadata": {},
   "outputs": [
    {
     "name": "stdout",
     "output_type": "stream",
     "text": [
      "Accuracy of the Random Forest model: 77.93%\n",
      "ROC score of the Random Forest model: 81.1%\n",
      "Cross validation accuracy of the Random Forest model: 80.27%\n"
     ]
    }
   ],
   "source": [
    "print(f\"Accuracy of the Random Forest model: {round(acc_rf*100, 2)}%\")\n",
    "print(f\"ROC score of the Random Forest model: {round(roc_rf*100, 2)}%\")\n",
    "print(f\"Cross validation accuracy of the Random Forest model: {round(max(cv_score_rf)*100, 2)}%\")"
   ]
  },
  {
   "cell_type": "code",
   "execution_count": 89,
   "id": "f93e147d",
   "metadata": {},
   "outputs": [
    {
     "data": {
      "image/png": "[encoded data removed]",
      "text/plain": [
       "<Figure size 504x360 with 2 Axes>"
      ]
     },
     "metadata": {},
     "output_type": "display_data"
    },
    {
     "name": "stdout",
     "output_type": "stream",
     "text": [
      "              precision    recall  f1-score   support\n",
      "\n",
      "           0       0.80      0.91      0.85      1001\n",
      "           1       0.68      0.46      0.54       408\n",
      "\n",
      "    accuracy                           0.78      1409\n",
      "   macro avg       0.74      0.68      0.70      1409\n",
      "weighted avg       0.77      0.78      0.76      1409\n",
      "\n"
     ]
    }
   ],
   "source": [
    "y_pred = model.predict(X_test)\n",
    "cm = confusion_matrix(y_test, y_pred)\n",
    "disp = ConfusionMatrixDisplay(confusion_matrix = cm, display_labels = model.classes_)\n",
    "disp.plot(cmap=plt.cm.Blues)\n",
    "plt.title(\"Random Forest - Confusion Matrix\")\n",
    "plt.grid(visible=False)\n",
    "plt.show()\n",
    "\n",
    "print(classification_report(y_test, y_pred))"
   ]
  },
  {
   "cell_type": "code",
   "execution_count": 59,
   "id": "02d07713",
   "metadata": {},
   "outputs": [
    {
     "data": {
      "text/plain": [
       "{'TotalCharges': 0.15891337979946588,\n",
       " 'MonthlyCharges': 0.13845116331193863,\n",
       " 'tenure': 0.13683423925631444,\n",
       " 'Contract_Month-to-month': 0.05510931238923187,\n",
       " 'PaymentMethod_Electronic check': 0.03446567880826145,\n",
       " 'TechSupport_No': 0.02809634471825202,\n",
       " 'InternetService_Fiber optic': 0.02755735843360992,\n",
       " 'OnlineSecurity_No': 0.020986429892095752,\n",
       " 'SeniorCitizen': 0.02084276685888929,\n",
       " 'OnlineBackup_No': 0.017458072070093693,\n",
       " 'gender_Male': 0.01742359891626418,\n",
       " 'Contract_Two year': 0.017198734530064656,\n",
       " 'gender_Female': 0.016520005987384755,\n",
       " 'DeviceProtection_No': 0.015783624167518766,\n",
       " 'Partner_No': 0.015112519670979213,\n",
       " 'PaperlessBilling_Yes': 0.014998403734158866,\n",
       " 'OnlineSecurity_Yes': 0.014967423029716737,\n",
       " 'Partner_Yes': 0.014914547220152527,\n",
       " 'PaperlessBilling_No': 0.01489776466951078,\n",
       " 'MultipleLines_No': 0.01346444230010169,\n",
       " 'MultipleLines_Yes': 0.013034729698012688,\n",
       " 'OnlineBackup_Yes': 0.012684279981794905,\n",
       " 'Dependents_Yes': 0.012497424803339919,\n",
       " 'TechSupport_Yes': 0.0123664585511665,\n",
       " 'PaymentMethod_Bank transfer (automatic)': 0.01224250999279115,\n",
       " 'Dependents_No': 0.012192209674628923,\n",
       " 'PaymentMethod_Credit card (automatic)': 0.012120417439685064,\n",
       " 'StreamingTV_Yes': 0.011888416925060286,\n",
       " 'StreamingMovies_No': 0.01175049143102533,\n",
       " 'PaymentMethod_Mailed check': 0.011564152308990345,\n",
       " 'DeviceProtection_Yes': 0.011403434235036262,\n",
       " 'Contract_One year': 0.011399564792575322,\n",
       " 'StreamingTV_No': 0.011317982121675174,\n",
       " 'StreamingMovies_Yes': 0.011255731070139975,\n",
       " 'InternetService_DSL': 0.010869501822316534,\n",
       " 'StreamingTV_No internet service': 0.0038177033401442283,\n",
       " 'OnlineBackup_No internet service': 0.00364499646296875,\n",
       " 'PhoneService_Yes': 0.003199857760117402,\n",
       " 'MultipleLines_No phone service': 0.0031272730539556896,\n",
       " 'InternetService_No': 0.0030958064887734718,\n",
       " 'PhoneService_No': 0.0030525059568665635,\n",
       " 'DeviceProtection_No internet service': 0.002414413039965091,\n",
       " 'TechSupport_No internet service': 0.0023927005494721676,\n",
       " 'OnlineSecurity_No internet service': 0.0017249664462970962,\n",
       " 'StreamingMovies_No internet service': 0.0009466622891960111}"
      ]
     },
     "execution_count": 59,
     "metadata": {},
     "output_type": "execute_result"
    }
   ],
   "source": [
    "ImpFeatures_rf"
   ]
  },
  {
   "cell_type": "markdown",
   "id": "030b0fe5",
   "metadata": {},
   "source": [
    "#### XGBoost model"
   ]
  },
  {
   "cell_type": "code",
   "execution_count": 90,
   "id": "830c5792",
   "metadata": {},
   "outputs": [],
   "source": [
    "model, acc_xgb, roc_xgb, fpr_xgb, tpr_xgb, cv_score_xgb, ImpFeatures_xgb = build_classification_models(\"xgboost\")"
   ]
  },
  {
   "cell_type": "code",
   "execution_count": 91,
   "id": "97fceb8e",
   "metadata": {},
   "outputs": [
    {
     "name": "stdout",
     "output_type": "stream",
     "text": [
      "Accuracy of the XGBoost model: 77.36%\n",
      "ROC score of the XGBoost model: 81.9%\n",
      "Cross validation accuracy of the XGBoost model: 80.06%\n"
     ]
    }
   ],
   "source": [
    "print(f\"Accuracy of the XGBoost model: {round(acc_xgb*100, 2)}%\")\n",
    "print(f\"ROC score of the XGBoost model: {round(roc_xgb*100, 2)}%\")\n",
    "print(f\"Cross validation accuracy of the XGBoost model: {round(max(cv_score_xgb)*100, 2)}%\")"
   ]
  },
  {
   "cell_type": "code",
   "execution_count": 92,
   "id": "be51b586",
   "metadata": {},
   "outputs": [
    {
     "data": {
      "image/png": "[encoded data removed]",
      "text/plain": [
       "<Figure size 504x360 with 2 Axes>"
      ]
     },
     "metadata": {},
     "output_type": "display_data"
    },
    {
     "name": "stdout",
     "output_type": "stream",
     "text": [
      "              precision    recall  f1-score   support\n",
      "\n",
      "           0       0.81      0.90      0.85      1001\n",
      "           1       0.65      0.48      0.55       408\n",
      "\n",
      "    accuracy                           0.77      1409\n",
      "   macro avg       0.73      0.69      0.70      1409\n",
      "weighted avg       0.76      0.77      0.76      1409\n",
      "\n"
     ]
    }
   ],
   "source": [
    "y_pred = model.predict(X_test)\n",
    "cm = confusion_matrix(y_test, y_pred)\n",
    "disp = ConfusionMatrixDisplay(confusion_matrix = cm, display_labels = model.classes_)\n",
    "disp.plot(cmap=plt.cm.Blues)\n",
    "plt.title(\"XXGBoost - Confusion Matrix\")\n",
    "plt.grid(visible=False)\n",
    "plt.show()\n",
    "\n",
    "print(classification_report(y_test, y_pred))"
   ]
  },
  {
   "cell_type": "code",
   "execution_count": 63,
   "id": "8df6a3f1",
   "metadata": {},
   "outputs": [
    {
     "data": {
      "text/plain": [
       "{'Contract_Month-to-month': 0.42166495,\n",
       " 'InternetService_Fiber optic': 0.23888656,\n",
       " 'Contract_Two year': 0.03253503,\n",
       " 'OnlineSecurity_No': 0.024863824,\n",
       " 'TechSupport_No': 0.021244943,\n",
       " 'tenure': 0.016144902,\n",
       " 'StreamingMovies_Yes': 0.0126368,\n",
       " 'PaymentMethod_Electronic check': 0.012369007,\n",
       " 'InternetService_DSL': 0.011892757,\n",
       " 'MultipleLines_No': 0.0115425745,\n",
       " 'StreamingMovies_No': 0.011111392,\n",
       " 'Contract_One year': 0.010887659,\n",
       " 'SeniorCitizen': 0.010779777,\n",
       " 'StreamingTV_Yes': 0.009820038,\n",
       " 'OnlineBackup_No': 0.009585798,\n",
       " 'PaymentMethod_Bank transfer (automatic)': 0.009563675,\n",
       " 'PhoneService_No': 0.009498705,\n",
       " 'PaymentMethod_Mailed check': 0.009496057,\n",
       " 'PaperlessBilling_No': 0.009490496,\n",
       " 'TotalCharges': 0.009435533,\n",
       " 'OnlineSecurity_Yes': 0.0093283625,\n",
       " 'MonthlyCharges': 0.009234466,\n",
       " 'DeviceProtection_Yes': 0.008968976,\n",
       " 'MultipleLines_Yes': 0.008864002,\n",
       " 'StreamingTV_No': 0.008161908,\n",
       " 'OnlineBackup_Yes': 0.008161562,\n",
       " 'TechSupport_Yes': 0.007963732,\n",
       " 'DeviceProtection_No': 0.0079101045,\n",
       " 'Partner_No': 0.0074552023,\n",
       " 'Dependents_No': 0.0071562384,\n",
       " 'PaymentMethod_Credit card (automatic)': 0.0068306504,\n",
       " 'gender_Female': 0.006514319,\n",
       " 'Partner_Yes': 0.0,\n",
       " 'Dependents_Yes': 0.0,\n",
       " 'PhoneService_Yes': 0.0,\n",
       " 'MultipleLines_No phone service': 0.0,\n",
       " 'InternetService_No': 0.0,\n",
       " 'OnlineSecurity_No internet service': 0.0,\n",
       " 'OnlineBackup_No internet service': 0.0,\n",
       " 'DeviceProtection_No internet service': 0.0,\n",
       " 'TechSupport_No internet service': 0.0,\n",
       " 'StreamingTV_No internet service': 0.0,\n",
       " 'StreamingMovies_No internet service': 0.0,\n",
       " 'PaperlessBilling_Yes': 0.0,\n",
       " 'gender_Male': 0.0}"
      ]
     },
     "execution_count": 63,
     "metadata": {},
     "output_type": "execute_result"
    }
   ],
   "source": [
    "ImpFeatures_xgb"
   ]
  },
  {
   "cell_type": "markdown",
   "id": "154e9014",
   "metadata": {},
   "source": [
    "#### SVM model"
   ]
  },
  {
   "cell_type": "code",
   "execution_count": 93,
   "id": "5653923d",
   "metadata": {},
   "outputs": [],
   "source": [
    "model, acc_svc, cv_score_svc, classification_Report_svc = build_classification_models(\"svc\")"
   ]
  },
  {
   "cell_type": "code",
   "execution_count": 65,
   "id": "cc89d0d4",
   "metadata": {},
   "outputs": [
    {
     "name": "stdout",
     "output_type": "stream",
     "text": [
      "Accuracy of the SVC model: 78.71%\n",
      "Cross validation accuracy of the SVC model: 81.48% \n",
      "\n",
      "              precision    recall  f1-score   support\n",
      "\n",
      "           0       0.82      0.90      0.86      1001\n",
      "           1       0.67      0.52      0.58       408\n",
      "\n",
      "    accuracy                           0.79      1409\n",
      "   macro avg       0.75      0.71      0.72      1409\n",
      "weighted avg       0.78      0.79      0.78      1409\n",
      "\n"
     ]
    }
   ],
   "source": [
    "print(f\"Accuracy of the SVC model: {round(acc_svc*100, 2)}%\")\n",
    "print(f\"Cross validation accuracy of the SVC model: {round(max(cv_score_svc)*100, 2)}% \\n\")\n",
    "print(classification_Report_svc)"
   ]
  },
  {
   "cell_type": "code",
   "execution_count": 94,
   "id": "ac8ffd5e",
   "metadata": {},
   "outputs": [
    {
     "data": {
      "image/png": "[encoded data removed]",
      "text/plain": [
       "<Figure size 504x360 with 2 Axes>"
      ]
     },
     "metadata": {},
     "output_type": "display_data"
    },
    {
     "name": "stdout",
     "output_type": "stream",
     "text": [
      "              precision    recall  f1-score   support\n",
      "\n",
      "           0       0.82      0.90      0.86      1001\n",
      "           1       0.67      0.52      0.58       408\n",
      "\n",
      "    accuracy                           0.79      1409\n",
      "   macro avg       0.75      0.71      0.72      1409\n",
      "weighted avg       0.78      0.79      0.78      1409\n",
      "\n"
     ]
    }
   ],
   "source": [
    "y_pred = model.predict(X_test)\n",
    "cm = confusion_matrix(y_test, y_pred)\n",
    "disp = ConfusionMatrixDisplay(confusion_matrix = cm, display_labels = model.classes_)\n",
    "disp.plot(cmap=plt.cm.Blues)\n",
    "plt.title(\"SVM - Confusion Matrix\")\n",
    "plt.grid(visible=False)\n",
    "plt.show()\n",
    "\n",
    "print(classification_report(y_test, y_pred))"
   ]
  },
  {
   "cell_type": "markdown",
   "id": "552afe81",
   "metadata": {},
   "source": [
    "#### Decision Tree model"
   ]
  },
  {
   "cell_type": "code",
   "execution_count": 66,
   "id": "4cc5654a",
   "metadata": {},
   "outputs": [],
   "source": [
    "acc_dt, roc_dt, fpr_dt, tpr_dt, cv_score_dt, ImpFeatures_dt = build_classification_models(\"decision tree\")"
   ]
  },
  {
   "cell_type": "code",
   "execution_count": 67,
   "id": "d5adf074",
   "metadata": {},
   "outputs": [
    {
     "name": "stdout",
     "output_type": "stream",
     "text": [
      "Accuracy of the Decision tree model: 72.53%\n",
      "ROC score of the Decision tree model: 65.9%\n",
      "Cross validation accuracy of the Decision tree model: 74.36%\n"
     ]
    }
   ],
   "source": [
    "print(f\"Accuracy of the Decision tree model: {round(acc_dt*100, 2)}%\")\n",
    "print(f\"ROC score of the Decision tree model: {round(roc_dt*100, 2)}%\")\n",
    "print(f\"Cross validation accuracy of the Decision tree model: {round(max(cv_score_dt)*100, 2)}%\")"
   ]
  },
  {
   "cell_type": "code",
   "execution_count": 68,
   "id": "01640800",
   "metadata": {},
   "outputs": [
    {
     "data": {
      "image/png": "[encoded data removed]",
      "text/plain": [
       "<Figure size 504x504 with 1 Axes>"
      ]
     },
     "metadata": {},
     "output_type": "display_data"
    }
   ],
   "source": [
    "data = {'Logistic Regression':acc_lr,'Random Forest':acc_rf,'XGBoost':acc_xgb,'Decision Tree':acc_dt}\n",
    "# print(data)\n",
    "Models = list(data.keys())\n",
    "Score = list(data.values())\n",
    "\n",
    "fig = plt.figure(figsize=(7,7))\n",
    "plt.bar(Models,Score,width=0.4)\n",
    "plt.xlabel(\"Models\")\n",
    "plt.ylabel(\"Model accuracy score\")\n",
    "plt.title(\"Accuracy of Diffrent models\")\n",
    "plt.show()"
   ]
  },
  {
   "cell_type": "code",
   "execution_count": 69,
   "id": "c7d0443f",
   "metadata": {},
   "outputs": [
    {
     "data": {
      "text/plain": [
       "Text(0, 0.5, 'True Positive Rate')"
      ]
     },
     "execution_count": 69,
     "metadata": {},
     "output_type": "execute_result"
    },
    {
     "data": {
      "image/png": "[encoded data removed]",
      "text/plain": [
       "<Figure size 720x504 with 1 Axes>"
      ]
     },
     "metadata": {},
     "output_type": "display_data"
    }
   ],
   "source": [
    "plt.figure(figsize=(10,7)).clf()\n",
    "\n",
    "plt.plot(fpr_lr,tpr_lr,label=\"Logistic Regression, AUC=\"+str(roc_lr))\n",
    "plt.plot(fpr_rf,tpr_rf,label=\"Random Forest, AUC=\"+str(roc_rf))\n",
    "plt.plot(fpr_xgb,tpr_xgb,label=\"XGBoost, AUC=\"+str(roc_xgb))\n",
    "plt.plot(fpr_dt,tpr_dt,label=\"Decision Tree, AUC=\"+str(roc_dt))\n",
    "\n",
    "plt.legend()\n",
    "plt.title(\"AUC plot for all models\", fontdict={'fontsize': 15})\n",
    "plt.xlabel(\"False Positive Rate\", fontdict={'fontsize': 12})\n",
    "plt.ylabel(\"True Positive Rate\", fontdict={'fontsize': 12})"
   ]
  },
  {
   "cell_type": "markdown",
   "id": "95b34c10",
   "metadata": {},
   "source": [
    "#### From the above bar and AUC graphs\n",
    "* We can intrepret that the logistic regression model has the highest accuracy and AUC score for this dataset.\n",
    "* Hyperparameter tuning for the XGBoost might help in improving its performance."
   ]
  },
  {
   "cell_type": "code",
   "execution_count": null,
   "id": "4197de4d",
   "metadata": {},
   "outputs": [],
   "source": [
    "cm = confusion_matrix(y_test, y_pred)\n",
    "disp = ConfusionMatrixDisplay(confusion_matrix = cm, display_labels = dtc.classes_)\n",
    "disp.plot(cmap=plt.cm.Blues)\n",
    "plt.title(\"Decision Tree Confusion Matrix\")\n",
    "plt.grid(visible=False)\n",
    "plt.show()\n",
    "\n",
    "print(classification_report(y_test, y_pred))"
   ]
  },
  {
   "cell_type": "markdown",
   "id": "17ca6f64",
   "metadata": {},
   "source": [
    "### Random Search for Different Models"
   ]
  },
  {
   "cell_type": "code",
   "execution_count": 266,
   "id": "ed5b6c28",
   "metadata": {},
   "outputs": [],
   "source": [
    "spaces = {'LR_space': {'solver': ['newton-cg', 'lbfgs', 'liblinear'],\n",
    "               'penalty': ['none', 'l1', 'l2', 'elasticnet'],\n",
    "               'random_state': [70, ]},\n",
    "         'RF_space': {'n_estimators': [20, 40, 60, 80],\n",
    "                      'random_state': [36, ]},\n",
    "         'XGB_space': {'max_depth': [1, 3, 5],\n",
    "                      'n_estimators': [50, 100],\n",
    "                      'random_state': [70, ]},\n",
    "         'SVC_space': {'kernel': ['linear', 'rbf', 'poly', 'sigmoid'],\n",
    "                      'C': [0.1, 0.2, 0.5],\n",
    "                      'random_state': [70, ]},\n",
    "         'DT_space': {'random_state': [70, ]}}\n",
    "\n",
    "def RandomSearch(model_name, hyperparameter_space):\n",
    "    model = model_dict.get(model_name)\n",
    "    search_space = spaces.get(hyperparameter_space)\n",
    "#     print(search_space.get('random_state')[0])\n",
    "    cv = RepeatedStratifiedKFold(n_splits=10, n_repeats=3, random_state=search_space.get('random_state')[0])\n",
    "    \n",
    "    random_search = RandomizedSearchCV(model, \n",
    "                            search_space, \n",
    "                            n_iter=500, \n",
    "                            scoring='accuracy', \n",
    "                            n_jobs=-1, \n",
    "                            cv=cv, \n",
    "                            random_state=search_space.get('random_state')[0])\n",
    "    \n",
    "    result = random_search.fit(X, y)\n",
    "    best_score = result.best_score_\n",
    "    best_params = result.best_params_\n",
    "    \n",
    "    print(f'Best Score for {model_name} : {round(result.best_score_*100, 2)}%')\n",
    "    print(f'Best Hyperparameters for {model_name}: {result.best_params_}')\n",
    "    \n",
    "    return best_score, best_params"
   ]
  },
  {
   "cell_type": "code",
   "execution_count": 267,
   "id": "4a7c9135",
   "metadata": {},
   "outputs": [
    {
     "name": "stdout",
     "output_type": "stream",
     "text": [
      "Best Score for logistic regression : 80.42%\n",
      "Best Hyperparameters for logistic regression: {'solver': 'newton-cg', 'random_state': 70, 'penalty': 'none'}\n"
     ]
    }
   ],
   "source": [
    "bestscore, bestparams = RandomSearch('logistic regression', 'LR_space')"
   ]
  },
  {
   "cell_type": "code",
   "execution_count": 268,
   "id": "19cbfd42",
   "metadata": {},
   "outputs": [
    {
     "name": "stdout",
     "output_type": "stream",
     "text": [
      "Best Score for random forest : 78.93%\n",
      "Best Hyperparameters for random forest: {'random_state': 36, 'n_estimators': 80}\n"
     ]
    }
   ],
   "source": [
    "bestscore, bestparams = RandomSearch('random forest', 'RF_space')"
   ]
  },
  {
   "cell_type": "code",
   "execution_count": 269,
   "id": "a4f3fdc9",
   "metadata": {},
   "outputs": [
    {
     "name": "stdout",
     "output_type": "stream",
     "text": [
      "[20:38:22] WARNING: C:/Users/Administrator/workspace/xgboost-win64_release_1.5.1/src/learner.cc:1115: Starting in XGBoost 1.3.0, the default evaluation metric used with the objective 'binary:logistic' was changed from 'error' to 'logloss'. Explicitly set eval_metric if you'd like to restore the old behavior.\n",
      "Best Score for xgboost : 80.51%\n",
      "Best Hyperparameters for xgboost: {'random_state': 70, 'n_estimators': 100, 'max_depth': 1}\n"
     ]
    }
   ],
   "source": [
    "bestscore, bestparams = RandomSearch('xgboost', 'XGB_space')"
   ]
  },
  {
   "cell_type": "code",
   "execution_count": null,
   "id": "560041bd",
   "metadata": {},
   "outputs": [],
   "source": []
  }
 ],
 "metadata": {
  "kernelspec": {
   "display_name": "Python 3 (ipykernel)",
   "language": "python",
   "name": "python3"
  },
  "language_info": {
   "codemirror_mode": {
    "name": "ipython",
    "version": 3
   },
   "file_extension": ".py",
   "mimetype": "text/x-python",
   "name": "python",
   "nbconvert_exporter": "python",
   "pygments_lexer": "ipython3",
   "version": "3.9.12"
  }
 },
 "nbformat": 4,
 "nbformat_minor": 5
}
